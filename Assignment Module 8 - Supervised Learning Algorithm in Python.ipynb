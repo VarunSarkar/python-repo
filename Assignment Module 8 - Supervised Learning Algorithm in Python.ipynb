{
 "cells": [
  {
   "cell_type": "markdown",
   "id": "8fb64b19",
   "metadata": {},
   "source": [
    "<h1>Assignment for Supervised Learning in Python</h1>"
   ]
  },
  {
   "cell_type": "markdown",
   "id": "9c24c575",
   "metadata": {},
   "source": [
    "<h2>Linear Regression Assignment</h2>"
   ]
  },
  {
   "cell_type": "markdown",
   "id": "ecce46e3",
   "metadata": {},
   "source": [
    "<p><h3>Q. You work in XYZ Company as a Python Data Scientist. The company officials have collected some data \n",
    "on salaries based on year of experience and wish for you to create a model from it. </h3></p>\n",
    "<p><h4>1. Load the dataset using pandas <br>\n",
    "2. Extract data fromYearsExperience column is a variable named X <br>\n",
    "3. Extract data from salary column is a variable named Y <br>\n",
    "4. Divide the dataset into two parts for training and testing in 66% and 33% proportion <br>\n",
    "5. Create and train LinearRegression Model on training set <br>\n",
    "6. Make predictions based on the testing set using the trained model <br>\n",
    "7. Check the performance by calculating the r2 score of the model </h4></p>"
   ]
  },
  {
   "cell_type": "code",
   "execution_count": 1,
   "id": "c87f77a5",
   "metadata": {},
   "outputs": [],
   "source": [
    "import pandas as pd\n",
    "from sklearn.linear_model import LinearRegression\n",
    "from sklearn.model_selection import train_test_split\n",
    "from sklearn.metrics import r2_score\n",
    "\n",
    "data = pd.read_csv(\"E:\\python\\data.csv\")"
   ]
  },
  {
   "cell_type": "code",
   "execution_count": 2,
   "id": "865fe2d1",
   "metadata": {},
   "outputs": [
    {
     "name": "stdout",
     "output_type": "stream",
     "text": [
      "<class 'pandas.core.frame.DataFrame'>\n",
      "RangeIndex: 30 entries, 0 to 29\n",
      "Data columns (total 2 columns):\n",
      " #   Column           Non-Null Count  Dtype  \n",
      "---  ------           --------------  -----  \n",
      " 0   YearsExperience  30 non-null     float64\n",
      " 1   Salary           30 non-null     float64\n",
      "dtypes: float64(2)\n",
      "memory usage: 608.0 bytes\n"
     ]
    }
   ],
   "source": [
    "data.info()"
   ]
  },
  {
   "cell_type": "code",
   "execution_count": 3,
   "id": "b6800c37",
   "metadata": {},
   "outputs": [],
   "source": [
    "X = data[[\"YearsExperience\"]]"
   ]
  },
  {
   "cell_type": "code",
   "execution_count": 4,
   "id": "cad2784d",
   "metadata": {},
   "outputs": [],
   "source": [
    "y = data[\"Salary\"]"
   ]
  },
  {
   "cell_type": "code",
   "execution_count": 5,
   "id": "15cb83d4",
   "metadata": {},
   "outputs": [
    {
     "data": {
      "text/plain": [
       "0.9467768261393266"
      ]
     },
     "execution_count": 5,
     "metadata": {},
     "output_type": "execute_result"
    }
   ],
   "source": [
    "X_train, X_test, y_train, y_test = train_test_split(X, y, test_size=0.33)\n",
    "\n",
    "reg = LinearRegression()\n",
    "\n",
    "model = reg.fit(X_train, y_train)\n",
    "\n",
    "y_pred = model.predict(X_test)\n",
    "\n",
    "r2_score(y_test, y_pred)"
   ]
  },
  {
   "cell_type": "markdown",
   "id": "a3d22b49",
   "metadata": {},
   "source": [
    "<h2>Logistic Regression Assignment  "
   ]
  },
  {
   "cell_type": "markdown",
   "id": "8bd5020e",
   "metadata": {},
   "source": [
    "<p><h3>Q. You work in XYZ Company as a Python Data Scientist. The company officials have collected some data  on \n",
    "Health parameter based on Diabetes and wish for you to create a model from it.</h3></p>\n",
    "\n",
    "<p><h4>1. Load the dataset(diabetes.csv) using pandas   <br>\n",
    "2. Extract data from Outcome column in a variable named Y   <br>\n",
    "3. Extract data from every column except Outcome column in a variable named X   <br>\n",
    "4. Divide the dataset into two parts for training and testing in 70% and 30% proportion   <br>\n",
    "5. Create and train Logistic Regression Model on training set   <br>\n",
    "6. Make predictions based on the testing set using the trained model   <br>\n",
    "7. Check the performance by calculating the confusion matrix and accuracy score of the model   </h4></p>"
   ]
  },
  {
   "cell_type": "code",
   "execution_count": 6,
   "id": "ec37b9a7",
   "metadata": {},
   "outputs": [],
   "source": [
    "diabetes = pd.read_csv('E:\\python\\diabetes.csv')"
   ]
  },
  {
   "cell_type": "code",
   "execution_count": 7,
   "id": "dbda2d47",
   "metadata": {},
   "outputs": [
    {
     "name": "stdout",
     "output_type": "stream",
     "text": [
      "<class 'pandas.core.frame.DataFrame'>\n",
      "RangeIndex: 768 entries, 0 to 767\n",
      "Data columns (total 9 columns):\n",
      " #   Column                    Non-Null Count  Dtype  \n",
      "---  ------                    --------------  -----  \n",
      " 0   Pregnancies               768 non-null    int64  \n",
      " 1   Glucose                   768 non-null    int64  \n",
      " 2   BloodPressure             768 non-null    int64  \n",
      " 3   SkinThickness             768 non-null    int64  \n",
      " 4   Insulin                   768 non-null    int64  \n",
      " 5   BMI                       768 non-null    float64\n",
      " 6   DiabetesPedigreeFunction  768 non-null    float64\n",
      " 7   Age                       768 non-null    int64  \n",
      " 8   Outcome                   768 non-null    int64  \n",
      "dtypes: float64(2), int64(7)\n",
      "memory usage: 54.1 KB\n"
     ]
    }
   ],
   "source": [
    "diabetes.info()"
   ]
  },
  {
   "cell_type": "code",
   "execution_count": 8,
   "id": "d298e4e8",
   "metadata": {},
   "outputs": [],
   "source": [
    "y = diabetes.pop('Outcome')"
   ]
  },
  {
   "cell_type": "code",
   "execution_count": 9,
   "id": "0d840e63",
   "metadata": {},
   "outputs": [],
   "source": [
    "X = diabetes"
   ]
  },
  {
   "cell_type": "code",
   "execution_count": 10,
   "id": "20502144",
   "metadata": {},
   "outputs": [],
   "source": [
    "from sklearn.linear_model import LogisticRegression\n",
    "from sklearn.metrics import confusion_matrix\n",
    "from sklearn.metrics import accuracy_score"
   ]
  },
  {
   "cell_type": "code",
   "execution_count": 11,
   "id": "a05b3545",
   "metadata": {},
   "outputs": [
    {
     "name": "stdout",
     "output_type": "stream",
     "text": [
      "Confusion Matrix: [[129  24]\n",
      " [ 30  48]]\n",
      "Accuracy Score: 0.7662337662337663\n"
     ]
    }
   ],
   "source": [
    "X_train, X_test, y_train, y_test = train_test_split(X, y, test_size=0.30)\n",
    "\n",
    "logReg = LogisticRegression(max_iter=200)\n",
    "\n",
    "model = logReg.fit(X_train, y_train)\n",
    "\n",
    "y_pred = model.predict(X_test)\n",
    "\n",
    "print(\"Confusion Matrix:\",confusion_matrix(y_test, y_pred))\n",
    "print(\"Accuracy Score:\",accuracy_score(y_test, y_pred))"
   ]
  },
  {
   "cell_type": "markdown",
   "id": "c5d7a40d",
   "metadata": {},
   "source": [
    "<h2>Decision Tree Assignment"
   ]
  },
  {
   "cell_type": "markdown",
   "id": "f45d91d2",
   "metadata": {},
   "source": [
    "<p><h3>You work in XYZ Company as a Python Data Scientist. The company officials have collected some data \n",
    "on salaries based on year of experience and wish for you to create a model from it.  </h3></p>\n",
    "\n",
    "<p><h4>1. Load the dataset(diabetes.csv) using pandas  <br>\n",
    "2. Extract data fromOutcome column is a variable named Y  <br>\n",
    "3. Extract data from every column except Outcome column in a variable named X  <br>\n",
    "4. Divide the dataset into two parts for training and testing in 70% and 30% proportion  <br>\n",
    "5. Create and train Decision Tree Model on training set  <br>\n",
    "6. Make predictions based on the testing set using the trained model  <br>\n",
    "7. Check the performance by calculating the confusion matrix and accuracy score of the model </h4><p>"
   ]
  },
  {
   "cell_type": "code",
   "execution_count": 12,
   "id": "407645a8",
   "metadata": {},
   "outputs": [],
   "source": [
    "from sklearn.tree import DecisionTreeClassifier\n",
    "from sklearn.model_selection import GridSearchCV\n",
    "\n",
    "diabetes = pd.read_csv('E:\\python\\diabetes.csv')"
   ]
  },
  {
   "cell_type": "code",
   "execution_count": 13,
   "id": "2d2f33b7",
   "metadata": {},
   "outputs": [
    {
     "data": {
      "text/html": [
       "<div>\n",
       "<style scoped>\n",
       "    .dataframe tbody tr th:only-of-type {\n",
       "        vertical-align: middle;\n",
       "    }\n",
       "\n",
       "    .dataframe tbody tr th {\n",
       "        vertical-align: top;\n",
       "    }\n",
       "\n",
       "    .dataframe thead th {\n",
       "        text-align: right;\n",
       "    }\n",
       "</style>\n",
       "<table border=\"1\" class=\"dataframe\">\n",
       "  <thead>\n",
       "    <tr style=\"text-align: right;\">\n",
       "      <th></th>\n",
       "      <th>Pregnancies</th>\n",
       "      <th>Glucose</th>\n",
       "      <th>BloodPressure</th>\n",
       "      <th>SkinThickness</th>\n",
       "      <th>Insulin</th>\n",
       "      <th>BMI</th>\n",
       "      <th>DiabetesPedigreeFunction</th>\n",
       "      <th>Age</th>\n",
       "      <th>Outcome</th>\n",
       "    </tr>\n",
       "  </thead>\n",
       "  <tbody>\n",
       "    <tr>\n",
       "      <th>0</th>\n",
       "      <td>6</td>\n",
       "      <td>148</td>\n",
       "      <td>72</td>\n",
       "      <td>35</td>\n",
       "      <td>0</td>\n",
       "      <td>33.6</td>\n",
       "      <td>0.627</td>\n",
       "      <td>50</td>\n",
       "      <td>1</td>\n",
       "    </tr>\n",
       "    <tr>\n",
       "      <th>1</th>\n",
       "      <td>1</td>\n",
       "      <td>85</td>\n",
       "      <td>66</td>\n",
       "      <td>29</td>\n",
       "      <td>0</td>\n",
       "      <td>26.6</td>\n",
       "      <td>0.351</td>\n",
       "      <td>31</td>\n",
       "      <td>0</td>\n",
       "    </tr>\n",
       "    <tr>\n",
       "      <th>2</th>\n",
       "      <td>8</td>\n",
       "      <td>183</td>\n",
       "      <td>64</td>\n",
       "      <td>0</td>\n",
       "      <td>0</td>\n",
       "      <td>23.3</td>\n",
       "      <td>0.672</td>\n",
       "      <td>32</td>\n",
       "      <td>1</td>\n",
       "    </tr>\n",
       "    <tr>\n",
       "      <th>3</th>\n",
       "      <td>1</td>\n",
       "      <td>89</td>\n",
       "      <td>66</td>\n",
       "      <td>23</td>\n",
       "      <td>94</td>\n",
       "      <td>28.1</td>\n",
       "      <td>0.167</td>\n",
       "      <td>21</td>\n",
       "      <td>0</td>\n",
       "    </tr>\n",
       "    <tr>\n",
       "      <th>4</th>\n",
       "      <td>0</td>\n",
       "      <td>137</td>\n",
       "      <td>40</td>\n",
       "      <td>35</td>\n",
       "      <td>168</td>\n",
       "      <td>43.1</td>\n",
       "      <td>2.288</td>\n",
       "      <td>33</td>\n",
       "      <td>1</td>\n",
       "    </tr>\n",
       "  </tbody>\n",
       "</table>\n",
       "</div>"
      ],
      "text/plain": [
       "   Pregnancies  Glucose  BloodPressure  SkinThickness  Insulin   BMI  \\\n",
       "0            6      148             72             35        0  33.6   \n",
       "1            1       85             66             29        0  26.6   \n",
       "2            8      183             64              0        0  23.3   \n",
       "3            1       89             66             23       94  28.1   \n",
       "4            0      137             40             35      168  43.1   \n",
       "\n",
       "   DiabetesPedigreeFunction  Age  Outcome  \n",
       "0                     0.627   50        1  \n",
       "1                     0.351   31        0  \n",
       "2                     0.672   32        1  \n",
       "3                     0.167   21        0  \n",
       "4                     2.288   33        1  "
      ]
     },
     "execution_count": 13,
     "metadata": {},
     "output_type": "execute_result"
    }
   ],
   "source": [
    "diabetes.head()"
   ]
  },
  {
   "cell_type": "code",
   "execution_count": 14,
   "id": "a3c53b70",
   "metadata": {},
   "outputs": [],
   "source": [
    "X = pd.DataFrame(diabetes.loc[:,\"Pregnancies\":\"Age\"])"
   ]
  },
  {
   "cell_type": "code",
   "execution_count": 15,
   "id": "2116de24",
   "metadata": {},
   "outputs": [
    {
     "data": {
      "text/html": [
       "<div>\n",
       "<style scoped>\n",
       "    .dataframe tbody tr th:only-of-type {\n",
       "        vertical-align: middle;\n",
       "    }\n",
       "\n",
       "    .dataframe tbody tr th {\n",
       "        vertical-align: top;\n",
       "    }\n",
       "\n",
       "    .dataframe thead th {\n",
       "        text-align: right;\n",
       "    }\n",
       "</style>\n",
       "<table border=\"1\" class=\"dataframe\">\n",
       "  <thead>\n",
       "    <tr style=\"text-align: right;\">\n",
       "      <th></th>\n",
       "      <th>Pregnancies</th>\n",
       "      <th>Glucose</th>\n",
       "      <th>BloodPressure</th>\n",
       "      <th>SkinThickness</th>\n",
       "      <th>Insulin</th>\n",
       "      <th>BMI</th>\n",
       "      <th>DiabetesPedigreeFunction</th>\n",
       "      <th>Age</th>\n",
       "    </tr>\n",
       "  </thead>\n",
       "  <tbody>\n",
       "    <tr>\n",
       "      <th>0</th>\n",
       "      <td>6</td>\n",
       "      <td>148</td>\n",
       "      <td>72</td>\n",
       "      <td>35</td>\n",
       "      <td>0</td>\n",
       "      <td>33.6</td>\n",
       "      <td>0.627</td>\n",
       "      <td>50</td>\n",
       "    </tr>\n",
       "    <tr>\n",
       "      <th>1</th>\n",
       "      <td>1</td>\n",
       "      <td>85</td>\n",
       "      <td>66</td>\n",
       "      <td>29</td>\n",
       "      <td>0</td>\n",
       "      <td>26.6</td>\n",
       "      <td>0.351</td>\n",
       "      <td>31</td>\n",
       "    </tr>\n",
       "    <tr>\n",
       "      <th>2</th>\n",
       "      <td>8</td>\n",
       "      <td>183</td>\n",
       "      <td>64</td>\n",
       "      <td>0</td>\n",
       "      <td>0</td>\n",
       "      <td>23.3</td>\n",
       "      <td>0.672</td>\n",
       "      <td>32</td>\n",
       "    </tr>\n",
       "    <tr>\n",
       "      <th>3</th>\n",
       "      <td>1</td>\n",
       "      <td>89</td>\n",
       "      <td>66</td>\n",
       "      <td>23</td>\n",
       "      <td>94</td>\n",
       "      <td>28.1</td>\n",
       "      <td>0.167</td>\n",
       "      <td>21</td>\n",
       "    </tr>\n",
       "    <tr>\n",
       "      <th>4</th>\n",
       "      <td>0</td>\n",
       "      <td>137</td>\n",
       "      <td>40</td>\n",
       "      <td>35</td>\n",
       "      <td>168</td>\n",
       "      <td>43.1</td>\n",
       "      <td>2.288</td>\n",
       "      <td>33</td>\n",
       "    </tr>\n",
       "    <tr>\n",
       "      <th>...</th>\n",
       "      <td>...</td>\n",
       "      <td>...</td>\n",
       "      <td>...</td>\n",
       "      <td>...</td>\n",
       "      <td>...</td>\n",
       "      <td>...</td>\n",
       "      <td>...</td>\n",
       "      <td>...</td>\n",
       "    </tr>\n",
       "    <tr>\n",
       "      <th>763</th>\n",
       "      <td>10</td>\n",
       "      <td>101</td>\n",
       "      <td>76</td>\n",
       "      <td>48</td>\n",
       "      <td>180</td>\n",
       "      <td>32.9</td>\n",
       "      <td>0.171</td>\n",
       "      <td>63</td>\n",
       "    </tr>\n",
       "    <tr>\n",
       "      <th>764</th>\n",
       "      <td>2</td>\n",
       "      <td>122</td>\n",
       "      <td>70</td>\n",
       "      <td>27</td>\n",
       "      <td>0</td>\n",
       "      <td>36.8</td>\n",
       "      <td>0.340</td>\n",
       "      <td>27</td>\n",
       "    </tr>\n",
       "    <tr>\n",
       "      <th>765</th>\n",
       "      <td>5</td>\n",
       "      <td>121</td>\n",
       "      <td>72</td>\n",
       "      <td>23</td>\n",
       "      <td>112</td>\n",
       "      <td>26.2</td>\n",
       "      <td>0.245</td>\n",
       "      <td>30</td>\n",
       "    </tr>\n",
       "    <tr>\n",
       "      <th>766</th>\n",
       "      <td>1</td>\n",
       "      <td>126</td>\n",
       "      <td>60</td>\n",
       "      <td>0</td>\n",
       "      <td>0</td>\n",
       "      <td>30.1</td>\n",
       "      <td>0.349</td>\n",
       "      <td>47</td>\n",
       "    </tr>\n",
       "    <tr>\n",
       "      <th>767</th>\n",
       "      <td>1</td>\n",
       "      <td>93</td>\n",
       "      <td>70</td>\n",
       "      <td>31</td>\n",
       "      <td>0</td>\n",
       "      <td>30.4</td>\n",
       "      <td>0.315</td>\n",
       "      <td>23</td>\n",
       "    </tr>\n",
       "  </tbody>\n",
       "</table>\n",
       "<p>768 rows × 8 columns</p>\n",
       "</div>"
      ],
      "text/plain": [
       "     Pregnancies  Glucose  BloodPressure  SkinThickness  Insulin   BMI  \\\n",
       "0              6      148             72             35        0  33.6   \n",
       "1              1       85             66             29        0  26.6   \n",
       "2              8      183             64              0        0  23.3   \n",
       "3              1       89             66             23       94  28.1   \n",
       "4              0      137             40             35      168  43.1   \n",
       "..           ...      ...            ...            ...      ...   ...   \n",
       "763           10      101             76             48      180  32.9   \n",
       "764            2      122             70             27        0  36.8   \n",
       "765            5      121             72             23      112  26.2   \n",
       "766            1      126             60              0        0  30.1   \n",
       "767            1       93             70             31        0  30.4   \n",
       "\n",
       "     DiabetesPedigreeFunction  Age  \n",
       "0                       0.627   50  \n",
       "1                       0.351   31  \n",
       "2                       0.672   32  \n",
       "3                       0.167   21  \n",
       "4                       2.288   33  \n",
       "..                        ...  ...  \n",
       "763                     0.171   63  \n",
       "764                     0.340   27  \n",
       "765                     0.245   30  \n",
       "766                     0.349   47  \n",
       "767                     0.315   23  \n",
       "\n",
       "[768 rows x 8 columns]"
      ]
     },
     "execution_count": 15,
     "metadata": {},
     "output_type": "execute_result"
    }
   ],
   "source": [
    "X"
   ]
  },
  {
   "cell_type": "code",
   "execution_count": 16,
   "id": "9617c274",
   "metadata": {},
   "outputs": [],
   "source": [
    "y = pd.DataFrame(diabetes[\"Outcome\"])"
   ]
  },
  {
   "cell_type": "code",
   "execution_count": 17,
   "id": "50625f7d",
   "metadata": {},
   "outputs": [
    {
     "data": {
      "text/html": [
       "<div>\n",
       "<style scoped>\n",
       "    .dataframe tbody tr th:only-of-type {\n",
       "        vertical-align: middle;\n",
       "    }\n",
       "\n",
       "    .dataframe tbody tr th {\n",
       "        vertical-align: top;\n",
       "    }\n",
       "\n",
       "    .dataframe thead th {\n",
       "        text-align: right;\n",
       "    }\n",
       "</style>\n",
       "<table border=\"1\" class=\"dataframe\">\n",
       "  <thead>\n",
       "    <tr style=\"text-align: right;\">\n",
       "      <th></th>\n",
       "      <th>Outcome</th>\n",
       "    </tr>\n",
       "  </thead>\n",
       "  <tbody>\n",
       "    <tr>\n",
       "      <th>0</th>\n",
       "      <td>1</td>\n",
       "    </tr>\n",
       "    <tr>\n",
       "      <th>1</th>\n",
       "      <td>0</td>\n",
       "    </tr>\n",
       "    <tr>\n",
       "      <th>2</th>\n",
       "      <td>1</td>\n",
       "    </tr>\n",
       "    <tr>\n",
       "      <th>3</th>\n",
       "      <td>0</td>\n",
       "    </tr>\n",
       "    <tr>\n",
       "      <th>4</th>\n",
       "      <td>1</td>\n",
       "    </tr>\n",
       "    <tr>\n",
       "      <th>...</th>\n",
       "      <td>...</td>\n",
       "    </tr>\n",
       "    <tr>\n",
       "      <th>763</th>\n",
       "      <td>0</td>\n",
       "    </tr>\n",
       "    <tr>\n",
       "      <th>764</th>\n",
       "      <td>0</td>\n",
       "    </tr>\n",
       "    <tr>\n",
       "      <th>765</th>\n",
       "      <td>0</td>\n",
       "    </tr>\n",
       "    <tr>\n",
       "      <th>766</th>\n",
       "      <td>1</td>\n",
       "    </tr>\n",
       "    <tr>\n",
       "      <th>767</th>\n",
       "      <td>0</td>\n",
       "    </tr>\n",
       "  </tbody>\n",
       "</table>\n",
       "<p>768 rows × 1 columns</p>\n",
       "</div>"
      ],
      "text/plain": [
       "     Outcome\n",
       "0          1\n",
       "1          0\n",
       "2          1\n",
       "3          0\n",
       "4          1\n",
       "..       ...\n",
       "763        0\n",
       "764        0\n",
       "765        0\n",
       "766        1\n",
       "767        0\n",
       "\n",
       "[768 rows x 1 columns]"
      ]
     },
     "execution_count": 17,
     "metadata": {},
     "output_type": "execute_result"
    }
   ],
   "source": [
    "y"
   ]
  },
  {
   "cell_type": "code",
   "execution_count": 18,
   "id": "6b0fdcfc",
   "metadata": {},
   "outputs": [],
   "source": [
    "X_train, X_test, y_train, y_test = train_test_split(X, y, test_size=0.3, stratify = y)\n"
   ]
  },
  {
   "cell_type": "code",
   "execution_count": 19,
   "id": "f53522be",
   "metadata": {},
   "outputs": [],
   "source": [
    "params = {\n",
    "    \"max_depth\": [2,3,4,5,6,7,8,9],\n",
    "    \"min_samples_split\": [15,20,25,30,35],\n",
    "    \"min_samples_leaf\": [15,10,7,5]\n",
    "}"
   ]
  },
  {
   "cell_type": "code",
   "execution_count": 20,
   "id": "00ecd229",
   "metadata": {},
   "outputs": [],
   "source": [
    "model = DecisionTreeClassifier()"
   ]
  },
  {
   "cell_type": "code",
   "execution_count": 21,
   "id": "efa60a8e",
   "metadata": {},
   "outputs": [],
   "source": [
    "clf = GridSearchCV(model, params, cv= 7)"
   ]
  },
  {
   "cell_type": "code",
   "execution_count": 22,
   "id": "9f367254",
   "metadata": {},
   "outputs": [
    {
     "data": {
      "text/plain": [
       "GridSearchCV(cv=7, estimator=DecisionTreeClassifier(),\n",
       "             param_grid={'max_depth': [2, 3, 4, 5, 6, 7, 8, 9],\n",
       "                         'min_samples_leaf': [15, 10, 7, 5],\n",
       "                         'min_samples_split': [15, 20, 25, 30, 35]})"
      ]
     },
     "execution_count": 22,
     "metadata": {},
     "output_type": "execute_result"
    }
   ],
   "source": [
    "clf.fit(X_train,y_train)"
   ]
  },
  {
   "cell_type": "code",
   "execution_count": 23,
   "id": "cb5666a7",
   "metadata": {},
   "outputs": [
    {
     "data": {
      "text/plain": [
       "{'max_depth': 7, 'min_samples_leaf': 15, 'min_samples_split': 35}"
      ]
     },
     "execution_count": 23,
     "metadata": {},
     "output_type": "execute_result"
    }
   ],
   "source": [
    "clf.best_params_"
   ]
  },
  {
   "cell_type": "code",
   "execution_count": 24,
   "id": "0e53cdf7",
   "metadata": {},
   "outputs": [],
   "source": [
    "model = DecisionTreeClassifier(max_depth=5,min_samples_leaf=10,min_samples_split=15)"
   ]
  },
  {
   "cell_type": "code",
   "execution_count": 25,
   "id": "806b38a1",
   "metadata": {},
   "outputs": [
    {
     "data": {
      "text/plain": [
       "DecisionTreeClassifier(max_depth=5, min_samples_leaf=10, min_samples_split=15)"
      ]
     },
     "execution_count": 25,
     "metadata": {},
     "output_type": "execute_result"
    }
   ],
   "source": [
    "model.fit(X_train, y_train)"
   ]
  },
  {
   "cell_type": "code",
   "execution_count": 26,
   "id": "3473c014",
   "metadata": {},
   "outputs": [],
   "source": [
    "test_pred = model.predict(X_test)"
   ]
  },
  {
   "cell_type": "code",
   "execution_count": 27,
   "id": "3568879a",
   "metadata": {},
   "outputs": [
    {
     "data": {
      "text/plain": [
       "0.7575757575757576"
      ]
     },
     "execution_count": 27,
     "metadata": {},
     "output_type": "execute_result"
    }
   ],
   "source": [
    "accuracy_score(y_test, test_pred)"
   ]
  },
  {
   "cell_type": "code",
   "execution_count": 28,
   "id": "d546c9fd",
   "metadata": {},
   "outputs": [
    {
     "data": {
      "text/plain": [
       "array([[102,  48],\n",
       "       [ 57,  24]], dtype=int64)"
      ]
     },
     "execution_count": 28,
     "metadata": {},
     "output_type": "execute_result"
    }
   ],
   "source": [
    "confusion_matrix(y_test, y_pred)"
   ]
  },
  {
   "cell_type": "markdown",
   "id": "e9ed904c",
   "metadata": {},
   "source": [
    "<h2>Random Forest Assignment"
   ]
  },
  {
   "cell_type": "markdown",
   "id": "6b7f11f4",
   "metadata": {},
   "source": [
    "<h4>Dataset: diabetes.csv\n",
    "    \n",
    "1. Load the dataset using pandas\n",
    "    \n",
    "2. Extract data fromOutcome column is a variable named Y\n",
    "    \n",
    "3. Extract data from every column except Outcome column in a variable named X.\n",
    "    \n",
    "4. Divide the dataset into two parts for training and testing in 70% and 30% proportion\n",
    "    \n",
    "5. Create and train Random Forest Model on training set\n",
    "    \n",
    "6. Make predictions based on the testing set using the trained model\n",
    "    \n",
    "7. Check the performance by calculating the confusion matrix and accuracy score of the model"
   ]
  },
  {
   "cell_type": "code",
   "execution_count": 29,
   "id": "99c08091",
   "metadata": {},
   "outputs": [
    {
     "data": {
      "text/html": [
       "<div>\n",
       "<style scoped>\n",
       "    .dataframe tbody tr th:only-of-type {\n",
       "        vertical-align: middle;\n",
       "    }\n",
       "\n",
       "    .dataframe tbody tr th {\n",
       "        vertical-align: top;\n",
       "    }\n",
       "\n",
       "    .dataframe thead th {\n",
       "        text-align: right;\n",
       "    }\n",
       "</style>\n",
       "<table border=\"1\" class=\"dataframe\">\n",
       "  <thead>\n",
       "    <tr style=\"text-align: right;\">\n",
       "      <th></th>\n",
       "      <th>Pregnancies</th>\n",
       "      <th>Glucose</th>\n",
       "      <th>BloodPressure</th>\n",
       "      <th>SkinThickness</th>\n",
       "      <th>Insulin</th>\n",
       "      <th>BMI</th>\n",
       "      <th>DiabetesPedigreeFunction</th>\n",
       "      <th>Age</th>\n",
       "      <th>Outcome</th>\n",
       "    </tr>\n",
       "  </thead>\n",
       "  <tbody>\n",
       "    <tr>\n",
       "      <th>0</th>\n",
       "      <td>6</td>\n",
       "      <td>148</td>\n",
       "      <td>72</td>\n",
       "      <td>35</td>\n",
       "      <td>0</td>\n",
       "      <td>33.6</td>\n",
       "      <td>0.627</td>\n",
       "      <td>50</td>\n",
       "      <td>1</td>\n",
       "    </tr>\n",
       "    <tr>\n",
       "      <th>1</th>\n",
       "      <td>1</td>\n",
       "      <td>85</td>\n",
       "      <td>66</td>\n",
       "      <td>29</td>\n",
       "      <td>0</td>\n",
       "      <td>26.6</td>\n",
       "      <td>0.351</td>\n",
       "      <td>31</td>\n",
       "      <td>0</td>\n",
       "    </tr>\n",
       "    <tr>\n",
       "      <th>2</th>\n",
       "      <td>8</td>\n",
       "      <td>183</td>\n",
       "      <td>64</td>\n",
       "      <td>0</td>\n",
       "      <td>0</td>\n",
       "      <td>23.3</td>\n",
       "      <td>0.672</td>\n",
       "      <td>32</td>\n",
       "      <td>1</td>\n",
       "    </tr>\n",
       "    <tr>\n",
       "      <th>3</th>\n",
       "      <td>1</td>\n",
       "      <td>89</td>\n",
       "      <td>66</td>\n",
       "      <td>23</td>\n",
       "      <td>94</td>\n",
       "      <td>28.1</td>\n",
       "      <td>0.167</td>\n",
       "      <td>21</td>\n",
       "      <td>0</td>\n",
       "    </tr>\n",
       "    <tr>\n",
       "      <th>4</th>\n",
       "      <td>0</td>\n",
       "      <td>137</td>\n",
       "      <td>40</td>\n",
       "      <td>35</td>\n",
       "      <td>168</td>\n",
       "      <td>43.1</td>\n",
       "      <td>2.288</td>\n",
       "      <td>33</td>\n",
       "      <td>1</td>\n",
       "    </tr>\n",
       "    <tr>\n",
       "      <th>...</th>\n",
       "      <td>...</td>\n",
       "      <td>...</td>\n",
       "      <td>...</td>\n",
       "      <td>...</td>\n",
       "      <td>...</td>\n",
       "      <td>...</td>\n",
       "      <td>...</td>\n",
       "      <td>...</td>\n",
       "      <td>...</td>\n",
       "    </tr>\n",
       "    <tr>\n",
       "      <th>763</th>\n",
       "      <td>10</td>\n",
       "      <td>101</td>\n",
       "      <td>76</td>\n",
       "      <td>48</td>\n",
       "      <td>180</td>\n",
       "      <td>32.9</td>\n",
       "      <td>0.171</td>\n",
       "      <td>63</td>\n",
       "      <td>0</td>\n",
       "    </tr>\n",
       "    <tr>\n",
       "      <th>764</th>\n",
       "      <td>2</td>\n",
       "      <td>122</td>\n",
       "      <td>70</td>\n",
       "      <td>27</td>\n",
       "      <td>0</td>\n",
       "      <td>36.8</td>\n",
       "      <td>0.340</td>\n",
       "      <td>27</td>\n",
       "      <td>0</td>\n",
       "    </tr>\n",
       "    <tr>\n",
       "      <th>765</th>\n",
       "      <td>5</td>\n",
       "      <td>121</td>\n",
       "      <td>72</td>\n",
       "      <td>23</td>\n",
       "      <td>112</td>\n",
       "      <td>26.2</td>\n",
       "      <td>0.245</td>\n",
       "      <td>30</td>\n",
       "      <td>0</td>\n",
       "    </tr>\n",
       "    <tr>\n",
       "      <th>766</th>\n",
       "      <td>1</td>\n",
       "      <td>126</td>\n",
       "      <td>60</td>\n",
       "      <td>0</td>\n",
       "      <td>0</td>\n",
       "      <td>30.1</td>\n",
       "      <td>0.349</td>\n",
       "      <td>47</td>\n",
       "      <td>1</td>\n",
       "    </tr>\n",
       "    <tr>\n",
       "      <th>767</th>\n",
       "      <td>1</td>\n",
       "      <td>93</td>\n",
       "      <td>70</td>\n",
       "      <td>31</td>\n",
       "      <td>0</td>\n",
       "      <td>30.4</td>\n",
       "      <td>0.315</td>\n",
       "      <td>23</td>\n",
       "      <td>0</td>\n",
       "    </tr>\n",
       "  </tbody>\n",
       "</table>\n",
       "<p>768 rows × 9 columns</p>\n",
       "</div>"
      ],
      "text/plain": [
       "     Pregnancies  Glucose  BloodPressure  SkinThickness  Insulin   BMI  \\\n",
       "0              6      148             72             35        0  33.6   \n",
       "1              1       85             66             29        0  26.6   \n",
       "2              8      183             64              0        0  23.3   \n",
       "3              1       89             66             23       94  28.1   \n",
       "4              0      137             40             35      168  43.1   \n",
       "..           ...      ...            ...            ...      ...   ...   \n",
       "763           10      101             76             48      180  32.9   \n",
       "764            2      122             70             27        0  36.8   \n",
       "765            5      121             72             23      112  26.2   \n",
       "766            1      126             60              0        0  30.1   \n",
       "767            1       93             70             31        0  30.4   \n",
       "\n",
       "     DiabetesPedigreeFunction  Age  Outcome  \n",
       "0                       0.627   50        1  \n",
       "1                       0.351   31        0  \n",
       "2                       0.672   32        1  \n",
       "3                       0.167   21        0  \n",
       "4                       2.288   33        1  \n",
       "..                        ...  ...      ...  \n",
       "763                     0.171   63        0  \n",
       "764                     0.340   27        0  \n",
       "765                     0.245   30        0  \n",
       "766                     0.349   47        1  \n",
       "767                     0.315   23        0  \n",
       "\n",
       "[768 rows x 9 columns]"
      ]
     },
     "execution_count": 29,
     "metadata": {},
     "output_type": "execute_result"
    }
   ],
   "source": [
    "diabetes"
   ]
  },
  {
   "cell_type": "code",
   "execution_count": 30,
   "id": "6673b84e",
   "metadata": {},
   "outputs": [],
   "source": [
    "X = pd.DataFrame(diabetes.loc[:,\"Pregnancies\":\"Age\"])"
   ]
  },
  {
   "cell_type": "code",
   "execution_count": 31,
   "id": "c13e9ad7",
   "metadata": {},
   "outputs": [],
   "source": [
    "y = diabetes[\"Outcome\"]"
   ]
  },
  {
   "cell_type": "code",
   "execution_count": 32,
   "id": "f6455062",
   "metadata": {},
   "outputs": [
    {
     "data": {
      "text/plain": [
       "(768,)"
      ]
     },
     "execution_count": 32,
     "metadata": {},
     "output_type": "execute_result"
    }
   ],
   "source": [
    "y.shape"
   ]
  },
  {
   "cell_type": "code",
   "execution_count": 33,
   "id": "17dd8af1",
   "metadata": {},
   "outputs": [],
   "source": [
    "X_train, X_test, y_train, y_test = train_test_split(X, y, test_size=0.3, stratify = y)"
   ]
  },
  {
   "cell_type": "code",
   "execution_count": 34,
   "id": "65df3201",
   "metadata": {},
   "outputs": [],
   "source": [
    "from sklearn.ensemble import RandomForestClassifier"
   ]
  },
  {
   "cell_type": "code",
   "execution_count": 35,
   "id": "81c913b7",
   "metadata": {},
   "outputs": [],
   "source": [
    "model = RandomForestClassifier()"
   ]
  },
  {
   "cell_type": "code",
   "execution_count": 36,
   "id": "d61fd6db",
   "metadata": {},
   "outputs": [],
   "source": [
    "params = {\n",
    "    \"n_estimators\": [10,15,20,25,30],\n",
    "    \"max_depth\": [2,3,4,5,6,7,8,9],\n",
    "    \"min_samples_split\": [15,20,25,30,35],\n",
    "    \"min_samples_leaf\": [15,10,7,5]\n",
    "}"
   ]
  },
  {
   "cell_type": "code",
   "execution_count": 37,
   "id": "7875844f",
   "metadata": {},
   "outputs": [],
   "source": [
    "clf = GridSearchCV(model, params, cv=6)"
   ]
  },
  {
   "cell_type": "code",
   "execution_count": 38,
   "id": "9f16d600",
   "metadata": {},
   "outputs": [
    {
     "data": {
      "text/plain": [
       "GridSearchCV(cv=6, estimator=RandomForestClassifier(),\n",
       "             param_grid={'max_depth': [2, 3, 4, 5, 6, 7, 8, 9],\n",
       "                         'min_samples_leaf': [15, 10, 7, 5],\n",
       "                         'min_samples_split': [15, 20, 25, 30, 35],\n",
       "                         'n_estimators': [10, 15, 20, 25, 30]})"
      ]
     },
     "execution_count": 38,
     "metadata": {},
     "output_type": "execute_result"
    }
   ],
   "source": [
    "clf.fit(X_train,y_train)"
   ]
  },
  {
   "cell_type": "code",
   "execution_count": 39,
   "id": "ddb41c39",
   "metadata": {},
   "outputs": [
    {
     "data": {
      "text/plain": [
       "{'max_depth': 8,\n",
       " 'min_samples_leaf': 5,\n",
       " 'min_samples_split': 25,\n",
       " 'n_estimators': 20}"
      ]
     },
     "execution_count": 39,
     "metadata": {},
     "output_type": "execute_result"
    }
   ],
   "source": [
    "clf.best_params_"
   ]
  },
  {
   "cell_type": "code",
   "execution_count": 40,
   "id": "6b020d1a",
   "metadata": {},
   "outputs": [],
   "source": [
    "model = RandomForestClassifier(max_depth=6,min_samples_leaf=7,min_samples_split=30,n_estimators=15)"
   ]
  },
  {
   "cell_type": "code",
   "execution_count": 41,
   "id": "00f23103",
   "metadata": {},
   "outputs": [
    {
     "data": {
      "text/plain": [
       "RandomForestClassifier(max_depth=6, min_samples_leaf=7, min_samples_split=30,\n",
       "                       n_estimators=15)"
      ]
     },
     "execution_count": 41,
     "metadata": {},
     "output_type": "execute_result"
    }
   ],
   "source": [
    "model.fit(X_train,y_train)"
   ]
  },
  {
   "cell_type": "code",
   "execution_count": 42,
   "id": "d1b310da",
   "metadata": {},
   "outputs": [],
   "source": [
    "test_pred = model.predict(X_test)"
   ]
  },
  {
   "cell_type": "code",
   "execution_count": 43,
   "id": "ac62df18",
   "metadata": {},
   "outputs": [
    {
     "data": {
      "text/plain": [
       "0.7705627705627706"
      ]
     },
     "execution_count": 43,
     "metadata": {},
     "output_type": "execute_result"
    }
   ],
   "source": [
    "accuracy_score(y_test,test_pred)"
   ]
  },
  {
   "cell_type": "code",
   "execution_count": 44,
   "id": "1612fcbc",
   "metadata": {},
   "outputs": [
    {
     "data": {
      "text/plain": [
       "array([[139,  11],\n",
       "       [ 42,  39]], dtype=int64)"
      ]
     },
     "execution_count": 44,
     "metadata": {},
     "output_type": "execute_result"
    }
   ],
   "source": [
    "confusion_matrix(y_test,test_pred)"
   ]
  },
  {
   "cell_type": "markdown",
   "id": "b69c7020",
   "metadata": {},
   "source": [
    "<h2>Naïve-Bayes Assignment"
   ]
  },
  {
   "cell_type": "markdown",
   "id": "6cd2d643",
   "metadata": {},
   "source": [
    "<h4>Dataset: diabetes.csv\n",
    "    \n",
    "1. Load the dataset using pandas\n",
    "    \n",
    "2. Extract data fromOutcome column is a variable named Y\n",
    "    \n",
    "3. Extract data from every column except Outcome column in a variable named X\n",
    "    \n",
    "4. Divide the dataset into two parts for training and testing in 70% and 30% proportion\n",
    "    \n",
    "5. Create and train Naïve Bayes Model on training set\n",
    "    \n",
    "6. Make predictions based on the testing set using the trained model\n",
    "    \n",
    "7. Check the performance by calculating the confusion matrix and accuracy score of the model"
   ]
  },
  {
   "cell_type": "code",
   "execution_count": 45,
   "id": "0ec95979",
   "metadata": {},
   "outputs": [],
   "source": [
    "from sklearn.naive_bayes import GaussianNB"
   ]
  },
  {
   "cell_type": "code",
   "execution_count": 46,
   "id": "98cbc487",
   "metadata": {},
   "outputs": [],
   "source": [
    "model = GaussianNB()"
   ]
  },
  {
   "cell_type": "code",
   "execution_count": 47,
   "id": "11e533b3",
   "metadata": {},
   "outputs": [
    {
     "data": {
      "text/plain": [
       "GaussianNB()"
      ]
     },
     "execution_count": 47,
     "metadata": {},
     "output_type": "execute_result"
    }
   ],
   "source": [
    "model.fit(X_train, y_train)"
   ]
  },
  {
   "cell_type": "code",
   "execution_count": 48,
   "id": "d0abcffb",
   "metadata": {},
   "outputs": [],
   "source": [
    "test_pred = model.predict(X_test)"
   ]
  },
  {
   "cell_type": "code",
   "execution_count": 49,
   "id": "50722f42",
   "metadata": {},
   "outputs": [
    {
     "data": {
      "text/plain": [
       "0.7532467532467533"
      ]
     },
     "execution_count": 49,
     "metadata": {},
     "output_type": "execute_result"
    }
   ],
   "source": [
    "accuracy_score(y_test, test_pred)"
   ]
  },
  {
   "cell_type": "code",
   "execution_count": 50,
   "id": "f78add8b",
   "metadata": {},
   "outputs": [
    {
     "data": {
      "text/plain": [
       "array([[127,  23],\n",
       "       [ 34,  47]], dtype=int64)"
      ]
     },
     "execution_count": 50,
     "metadata": {},
     "output_type": "execute_result"
    }
   ],
   "source": [
    "confusion_matrix(y_test, test_pred)"
   ]
  },
  {
   "cell_type": "code",
   "execution_count": 51,
   "id": "8d5958b0",
   "metadata": {},
   "outputs": [],
   "source": [
    "test_pred_prob = model.predict_proba(X_test)"
   ]
  },
  {
   "cell_type": "code",
   "execution_count": 52,
   "id": "b8e5df97",
   "metadata": {},
   "outputs": [
    {
     "data": {
      "text/plain": [
       "array([[9.86674921e-01, 1.33250794e-02],\n",
       "       [4.75797974e-01, 5.24202026e-01],\n",
       "       [9.41047468e-01, 5.89525323e-02],\n",
       "       [4.88250665e-01, 5.11749335e-01],\n",
       "       [5.02438786e-01, 4.97561214e-01],\n",
       "       [8.99555465e-01, 1.00444535e-01],\n",
       "       [7.57550645e-01, 2.42449355e-01],\n",
       "       [8.70605517e-01, 1.29394483e-01],\n",
       "       [2.08217815e-01, 7.91782185e-01],\n",
       "       [9.37739332e-01, 6.22606678e-02],\n",
       "       [7.76082184e-01, 2.23917816e-01],\n",
       "       [9.60566275e-01, 3.94337246e-02],\n",
       "       [9.42025584e-01, 5.79744160e-02],\n",
       "       [9.90324487e-01, 9.67551304e-03],\n",
       "       [2.41173669e-01, 7.58826331e-01],\n",
       "       [2.85602578e-01, 7.14397422e-01],\n",
       "       [7.06236283e-01, 2.93763717e-01],\n",
       "       [9.78035498e-01, 2.19645025e-02],\n",
       "       [1.78542845e-02, 9.82145715e-01],\n",
       "       [9.80110978e-01, 1.98890223e-02],\n",
       "       [8.22667096e-01, 1.77332904e-01],\n",
       "       [1.41697365e-03, 9.98583026e-01],\n",
       "       [7.39117585e-02, 9.26088242e-01],\n",
       "       [8.03823254e-01, 1.96176746e-01],\n",
       "       [9.62111764e-01, 3.78882360e-02],\n",
       "       [8.76015766e-01, 1.23984234e-01],\n",
       "       [8.85232363e-01, 1.14767637e-01],\n",
       "       [8.05007474e-01, 1.94992526e-01],\n",
       "       [9.00492891e-01, 9.95071093e-02],\n",
       "       [2.50535255e-02, 9.74946475e-01],\n",
       "       [9.77622995e-01, 2.23770050e-02],\n",
       "       [5.57503474e-01, 4.42496526e-01],\n",
       "       [9.90860206e-01, 9.13979410e-03],\n",
       "       [6.32523352e-01, 3.67476648e-01],\n",
       "       [2.00316250e-01, 7.99683750e-01],\n",
       "       [6.73799960e-01, 3.26200040e-01],\n",
       "       [3.54912067e-04, 9.99645088e-01],\n",
       "       [1.98660695e-01, 8.01339305e-01],\n",
       "       [9.68987157e-01, 3.10128427e-02],\n",
       "       [8.28528387e-01, 1.71471613e-01],\n",
       "       [2.93375168e-01, 7.06624832e-01],\n",
       "       [3.41422238e-01, 6.58577762e-01],\n",
       "       [7.53817327e-01, 2.46182673e-01],\n",
       "       [2.21999966e-01, 7.78000034e-01],\n",
       "       [8.56413466e-01, 1.43586534e-01],\n",
       "       [9.89423812e-01, 1.05761876e-02],\n",
       "       [8.24436487e-01, 1.75563513e-01],\n",
       "       [9.80140888e-01, 1.98591118e-02],\n",
       "       [1.08867211e-01, 8.91132789e-01],\n",
       "       [8.48858291e-01, 1.51141709e-01],\n",
       "       [9.00944060e-01, 9.90559401e-02],\n",
       "       [9.79278534e-01, 2.07214661e-02],\n",
       "       [9.37068066e-01, 6.29319336e-02],\n",
       "       [3.87447417e-01, 6.12552583e-01],\n",
       "       [8.92259664e-01, 1.07740336e-01],\n",
       "       [9.75006934e-01, 2.49930656e-02],\n",
       "       [9.09568534e-01, 9.04314665e-02],\n",
       "       [9.61212818e-01, 3.87871823e-02],\n",
       "       [9.24040109e-01, 7.59598913e-02],\n",
       "       [5.86032580e-01, 4.13967420e-01],\n",
       "       [9.89158863e-01, 1.08411370e-02],\n",
       "       [9.92703981e-01, 7.29601905e-03],\n",
       "       [9.33692740e-01, 6.63072604e-02],\n",
       "       [9.86703252e-01, 1.32967480e-02],\n",
       "       [9.87246959e-01, 1.27530415e-02],\n",
       "       [2.35296610e-01, 7.64703390e-01],\n",
       "       [9.23222635e-01, 7.67773649e-02],\n",
       "       [9.35731481e-01, 6.42685188e-02],\n",
       "       [9.59640522e-01, 4.03594785e-02],\n",
       "       [9.19554477e-01, 8.04455232e-02],\n",
       "       [7.34339299e-01, 2.65660701e-01],\n",
       "       [1.35727765e-01, 8.64272235e-01],\n",
       "       [9.48141694e-01, 5.18583056e-02],\n",
       "       [9.88555395e-01, 1.14446045e-02],\n",
       "       [9.45661432e-01, 5.43385680e-02],\n",
       "       [1.51069519e-02, 9.84893048e-01],\n",
       "       [9.83315594e-01, 1.66844055e-02],\n",
       "       [4.62233192e-01, 5.37766808e-01],\n",
       "       [3.12820182e-01, 6.87179818e-01],\n",
       "       [9.88386554e-01, 1.16134458e-02],\n",
       "       [8.62067680e-01, 1.37932320e-01],\n",
       "       [9.81080328e-01, 1.89196717e-02],\n",
       "       [9.01993578e-01, 9.80064216e-02],\n",
       "       [9.16522417e-01, 8.34775833e-02],\n",
       "       [9.01431944e-01, 9.85680565e-02],\n",
       "       [9.54492938e-01, 4.55070622e-02],\n",
       "       [7.31539448e-01, 2.68460552e-01],\n",
       "       [9.32443632e-01, 6.75563676e-02],\n",
       "       [1.10521826e-05, 9.99988948e-01],\n",
       "       [9.19533948e-01, 8.04660519e-02],\n",
       "       [5.02506331e-01, 4.97493669e-01],\n",
       "       [3.34143045e-01, 6.65856955e-01],\n",
       "       [9.13302545e-01, 8.66974553e-02],\n",
       "       [4.89031062e-01, 5.10968938e-01],\n",
       "       [3.61421455e-01, 6.38578545e-01],\n",
       "       [9.32928409e-01, 6.70715909e-02],\n",
       "       [9.03546030e-02, 9.09645397e-01],\n",
       "       [6.09356126e-01, 3.90643874e-01],\n",
       "       [2.06787999e-03, 9.97932120e-01],\n",
       "       [1.89802705e-02, 9.81019730e-01],\n",
       "       [8.54677618e-01, 1.45322382e-01],\n",
       "       [9.70874076e-01, 2.91259244e-02],\n",
       "       [3.85313728e-01, 6.14686272e-01],\n",
       "       [9.43681204e-01, 5.63187955e-02],\n",
       "       [2.19074962e-01, 7.80925038e-01],\n",
       "       [2.87074712e-01, 7.12925288e-01],\n",
       "       [8.23550606e-01, 1.76449394e-01],\n",
       "       [9.63824042e-01, 3.61759582e-02],\n",
       "       [9.86633605e-01, 1.33663949e-02],\n",
       "       [7.93600295e-03, 9.92063997e-01],\n",
       "       [9.80201343e-01, 1.97986565e-02],\n",
       "       [7.13901546e-01, 2.86098454e-01],\n",
       "       [4.51624362e-01, 5.48375638e-01],\n",
       "       [3.89421728e-01, 6.10578272e-01],\n",
       "       [4.45847961e-01, 5.54152039e-01],\n",
       "       [8.05970921e-01, 1.94029079e-01],\n",
       "       [6.80212310e-01, 3.19787690e-01],\n",
       "       [9.70946212e-01, 2.90537878e-02],\n",
       "       [9.83465776e-01, 1.65342240e-02],\n",
       "       [5.12432207e-03, 9.94875678e-01],\n",
       "       [6.56383928e-01, 3.43616072e-01],\n",
       "       [4.44933593e-01, 5.55066407e-01],\n",
       "       [8.11536047e-01, 1.88463953e-01],\n",
       "       [9.38765095e-01, 6.12349052e-02],\n",
       "       [4.15845187e-02, 9.58415481e-01],\n",
       "       [4.27593407e-02, 9.57240659e-01],\n",
       "       [8.45856487e-01, 1.54143513e-01],\n",
       "       [2.33342360e-02, 9.76665764e-01],\n",
       "       [8.99134845e-01, 1.00865155e-01],\n",
       "       [7.36200399e-01, 2.63799601e-01],\n",
       "       [5.46025784e-01, 4.53974216e-01],\n",
       "       [9.76951130e-01, 2.30488702e-02],\n",
       "       [9.67290162e-01, 3.27098376e-02],\n",
       "       [5.30516950e-01, 4.69483050e-01],\n",
       "       [9.62011169e-01, 3.79888313e-02],\n",
       "       [8.45331095e-01, 1.54668905e-01],\n",
       "       [6.48402192e-01, 3.51597808e-01],\n",
       "       [9.85160114e-01, 1.48398862e-02],\n",
       "       [8.83038720e-01, 1.16961280e-01],\n",
       "       [9.59531767e-01, 4.04682333e-02],\n",
       "       [2.37387599e-01, 7.62612401e-01],\n",
       "       [9.79769789e-01, 2.02302114e-02],\n",
       "       [9.26375939e-01, 7.36240610e-02],\n",
       "       [3.42564292e-01, 6.57435708e-01],\n",
       "       [9.64710283e-01, 3.52897171e-02],\n",
       "       [9.64269485e-01, 3.57305154e-02],\n",
       "       [8.21678673e-01, 1.78321327e-01],\n",
       "       [3.69540531e-01, 6.30459469e-01],\n",
       "       [7.62842319e-02, 9.23715768e-01],\n",
       "       [9.57807770e-01, 4.21922300e-02],\n",
       "       [8.41200297e-01, 1.58799703e-01],\n",
       "       [9.63048725e-01, 3.69512754e-02],\n",
       "       [8.76406064e-01, 1.23593936e-01],\n",
       "       [7.03228255e-01, 2.96771745e-01],\n",
       "       [8.73156023e-02, 9.12684398e-01],\n",
       "       [9.83748761e-01, 1.62512393e-02],\n",
       "       [2.25472654e-01, 7.74527346e-01],\n",
       "       [9.01601806e-01, 9.83981945e-02],\n",
       "       [9.52142362e-01, 4.78576382e-02],\n",
       "       [1.46432333e-01, 8.53567667e-01],\n",
       "       [9.63097174e-01, 3.69028260e-02],\n",
       "       [9.88788634e-01, 1.12113657e-02],\n",
       "       [3.06602541e-01, 6.93397459e-01],\n",
       "       [9.84437653e-01, 1.55623474e-02],\n",
       "       [9.12137716e-01, 8.78622836e-02],\n",
       "       [4.05196539e-01, 5.94803461e-01],\n",
       "       [9.77153284e-01, 2.28467164e-02],\n",
       "       [9.40506756e-01, 5.94932445e-02],\n",
       "       [7.35774292e-01, 2.64225708e-01],\n",
       "       [4.21781737e-01, 5.78218263e-01],\n",
       "       [7.28371713e-01, 2.71628287e-01],\n",
       "       [9.13670387e-01, 8.63296128e-02],\n",
       "       [6.42392760e-01, 3.57607240e-01],\n",
       "       [9.48108336e-01, 5.18916639e-02],\n",
       "       [3.93933699e-01, 6.06066301e-01],\n",
       "       [5.40152242e-01, 4.59847758e-01],\n",
       "       [9.36774348e-01, 6.32256521e-02],\n",
       "       [9.36645306e-01, 6.33546944e-02],\n",
       "       [8.56350993e-01, 1.43649007e-01],\n",
       "       [9.93701583e-01, 6.29841735e-03],\n",
       "       [8.05455465e-01, 1.94544535e-01],\n",
       "       [9.88425722e-01, 1.15742775e-02],\n",
       "       [9.85156000e-01, 1.48439997e-02],\n",
       "       [6.11813088e-01, 3.88186912e-01],\n",
       "       [4.28827866e-01, 5.71172134e-01],\n",
       "       [9.36262487e-01, 6.37375127e-02],\n",
       "       [7.84342262e-02, 9.21565774e-01],\n",
       "       [9.89417769e-01, 1.05822305e-02],\n",
       "       [8.00880224e-01, 1.99119776e-01],\n",
       "       [8.87776863e-01, 1.12223137e-01],\n",
       "       [9.64346851e-01, 3.56531489e-02],\n",
       "       [7.71409121e-01, 2.28590879e-01],\n",
       "       [3.45153036e-01, 6.54846964e-01],\n",
       "       [9.84310433e-01, 1.56895670e-02],\n",
       "       [3.62662405e-01, 6.37337595e-01],\n",
       "       [8.34731749e-01, 1.65268251e-01],\n",
       "       [9.29988365e-01, 7.00116355e-02],\n",
       "       [9.19788854e-01, 8.02111464e-02],\n",
       "       [2.68215155e-02, 9.73178484e-01],\n",
       "       [7.79532560e-01, 2.20467440e-01],\n",
       "       [3.61310753e-01, 6.38689247e-01],\n",
       "       [9.75436960e-01, 2.45630398e-02],\n",
       "       [3.16756131e-01, 6.83243869e-01],\n",
       "       [5.88844812e-01, 4.11155188e-01],\n",
       "       [1.98037298e-01, 8.01962702e-01],\n",
       "       [9.75857631e-01, 2.41423686e-02],\n",
       "       [2.74739195e-06, 9.99997253e-01],\n",
       "       [6.96563987e-01, 3.03436013e-01],\n",
       "       [2.34840325e-03, 9.97651597e-01],\n",
       "       [9.91985120e-01, 8.01487963e-03],\n",
       "       [5.88599314e-01, 4.11400686e-01],\n",
       "       [8.99231705e-01, 1.00768295e-01],\n",
       "       [6.84294753e-01, 3.15705247e-01],\n",
       "       [9.49311869e-01, 5.06881315e-02],\n",
       "       [9.14779912e-01, 8.52200879e-02],\n",
       "       [5.93229829e-01, 4.06770171e-01],\n",
       "       [5.78676555e-02, 9.42132344e-01],\n",
       "       [9.90188642e-01, 9.81135803e-03],\n",
       "       [9.79870159e-01, 2.01298407e-02],\n",
       "       [7.93761643e-01, 2.06238357e-01],\n",
       "       [7.75502258e-01, 2.24497742e-01],\n",
       "       [7.99712209e-01, 2.00287791e-01],\n",
       "       [2.48527560e-01, 7.51472440e-01],\n",
       "       [4.39667278e-01, 5.60332722e-01],\n",
       "       [1.22878545e-01, 8.77121455e-01],\n",
       "       [9.31786106e-01, 6.82138944e-02],\n",
       "       [8.16100164e-01, 1.83899836e-01],\n",
       "       [1.61402037e-01, 8.38597963e-01],\n",
       "       [2.64702380e-02, 9.73529762e-01],\n",
       "       [1.35518845e-01, 8.64481155e-01],\n",
       "       [2.87297825e-01, 7.12702175e-01]])"
      ]
     },
     "execution_count": 52,
     "metadata": {},
     "output_type": "execute_result"
    }
   ],
   "source": [
    "test_pred_prob"
   ]
  },
  {
   "cell_type": "code",
   "execution_count": 54,
   "id": "94a7f223",
   "metadata": {},
   "outputs": [
    {
     "data": {
      "text/plain": [
       "array([0, 1], dtype=int64)"
      ]
     },
     "execution_count": 54,
     "metadata": {},
     "output_type": "execute_result"
    }
   ],
   "source": [
    "model.classes_"
   ]
  },
  {
   "cell_type": "code",
   "execution_count": null,
   "id": "9099684e",
   "metadata": {},
   "outputs": [],
   "source": []
  }
 ],
 "metadata": {
  "kernelspec": {
   "display_name": "Python 3",
   "language": "python",
   "name": "python3"
  },
  "language_info": {
   "codemirror_mode": {
    "name": "ipython",
    "version": 3
   },
   "file_extension": ".py",
   "mimetype": "text/x-python",
   "name": "python",
   "nbconvert_exporter": "python",
   "pygments_lexer": "ipython3",
   "version": "3.8.8"
  }
 },
 "nbformat": 4,
 "nbformat_minor": 5
}
