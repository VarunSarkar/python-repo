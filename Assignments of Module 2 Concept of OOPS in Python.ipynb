{
 "cells": [
  {
   "cell_type": "markdown",
   "id": "2058df9d",
   "metadata": {},
   "source": [
    "<h1> Assigments\n",
    "    "
   ]
  },
  {
   "cell_type": "markdown",
   "id": "157cd422",
   "metadata": {},
   "source": [
    "<h2>Module 2: Exception Handling Assignment</h2>"
   ]
  },
  {
   "cell_type": "markdown",
   "id": "b7964c09",
   "metadata": {},
   "source": [
    "<h4>1. With the help of try and inbuilt exception, display the exception"
   ]
  },
  {
   "cell_type": "code",
   "execution_count": 4,
   "id": "aa861afe",
   "metadata": {},
   "outputs": [
    {
     "name": "stdout",
     "output_type": "stream",
     "text": [
      "Enter number 1: 5\n",
      "Enter number 2: 4\n",
      "1.25 | 0.8\n"
     ]
    }
   ],
   "source": [
    "num1 = int(input(\"Enter number 1: \"))\n",
    "num2 = int(input(\"Enter number 2: \"))\n",
    "\n",
    "try:\n",
    "    ans1 = num1 / num2\n",
    "    ans2 = num2 / num1\n",
    "    print(ans1, \"|\", ans2)\n",
    "except ZeroDivisionError as ex:\n",
    "    print(ex)"
   ]
  },
  {
   "cell_type": "markdown",
   "id": "b29e8a11",
   "metadata": {},
   "source": [
    "<h4>2. Take two user inputs and pass those input variables in a try block. If the user input is 0, then\n",
    "throw the ZeroDivisionError exception"
   ]
  },
  {
   "cell_type": "code",
   "execution_count": 5,
   "id": "74764c1c",
   "metadata": {},
   "outputs": [
    {
     "name": "stdout",
     "output_type": "stream",
     "text": [
      "Enter number 1: 2\n",
      "Enter number 2: 0\n",
      "division by zero\n"
     ]
    }
   ],
   "source": [
    "num1 = int(input(\"Enter number 1: \"))\n",
    "num2 = int(input(\"Enter number 2: \"))\n",
    "\n",
    "try:\n",
    "    ans1 = num1 / num2\n",
    "    ans2 = num2 / num1\n",
    "    print(ans1, \"|\", ans2)\n",
    "except ZeroDivisionError as ex:\n",
    "    print(ex)"
   ]
  },
  {
   "cell_type": "markdown",
   "id": "1b71a243",
   "metadata": {},
   "source": [
    "<H4>3. Import math package and with the help of math package, print – math.exp(50000). Now use\n",
    "the inbuilt OverflowError exception on the math.exp(), and print the exception"
   ]
  },
  {
   "cell_type": "code",
   "execution_count": 11,
   "id": "5ef2c845",
   "metadata": {},
   "outputs": [
    {
     "name": "stdout",
     "output_type": "stream",
     "text": [
      "math range error\n"
     ]
    }
   ],
   "source": [
    "import math\n",
    "\n",
    "try:\n",
    "    print(math.exp(50000))\n",
    "except OverflowError as ex:\n",
    "    print(ex)"
   ]
  },
  {
   "cell_type": "markdown",
   "id": "34969097",
   "metadata": {},
   "source": [
    "<h4>4. Now install the ‘termcolor’ package in the anaconda prompt, and import that package to\n",
    "provide the colors to the print statement in Jupyter Notebook"
   ]
  },
  {
   "cell_type": "code",
   "execution_count": 14,
   "id": "efc244db",
   "metadata": {},
   "outputs": [
    {
     "name": "stdout",
     "output_type": "stream",
     "text": [
      "Enter number 1: 0\n",
      "Enter number 2: 0\n",
      "\u001b[34mERROR:\u001b[0m \u001b[31mdivision by zero\u001b[0m\n"
     ]
    }
   ],
   "source": [
    "from termcolor import colored\n",
    "\n",
    "num1 = int(input(\"Enter number 1: \"))\n",
    "num2 = int(input(\"Enter number 2: \"))\n",
    "\n",
    "try:\n",
    "    ans1 = num1 / num2\n",
    "    ans2 = num2 / num1\n",
    "    print(ans1, \"|\", ans2)\n",
    "except ZeroDivisionError as ex:\n",
    "    print(colored('ERROR:' , 'blue'), end= ' ')\n",
    "    print(colored(ex, 'red'))"
   ]
  },
  {
   "cell_type": "markdown",
   "id": "e9c1674c",
   "metadata": {},
   "source": [
    "<h4>5. Create your own exception with the help of class and functions"
   ]
  },
  {
   "cell_type": "code",
   "execution_count": 21,
   "id": "f18417b6",
   "metadata": {},
   "outputs": [
    {
     "ename": "MyException",
     "evalue": "Throwing a custom Error",
     "output_type": "error",
     "traceback": [
      "\u001b[1;31m---------------------------------------------------------------------------\u001b[0m",
      "\u001b[1;31mMyException\u001b[0m                               Traceback (most recent call last)",
      "\u001b[1;32m<ipython-input-21-703f9152280a>\u001b[0m in \u001b[0;36m<module>\u001b[1;34m\u001b[0m\n\u001b[0;32m      4\u001b[0m         \u001b[0mself\u001b[0m\u001b[1;33m.\u001b[0m\u001b[0margs\u001b[0m \u001b[1;33m=\u001b[0m \u001b[1;33m(\u001b[0m\u001b[1;34m\"Throwing a custom Error\"\u001b[0m\u001b[1;33m,\u001b[0m\u001b[1;33m)\u001b[0m\u001b[1;33m\u001b[0m\u001b[1;33m\u001b[0m\u001b[0m\n\u001b[0;32m      5\u001b[0m \u001b[1;33m\u001b[0m\u001b[0m\n\u001b[1;32m----> 6\u001b[1;33m \u001b[1;32mraise\u001b[0m \u001b[0mMyException\u001b[0m\u001b[1;33m\u001b[0m\u001b[1;33m\u001b[0m\u001b[0m\n\u001b[0m",
      "\u001b[1;31mMyException\u001b[0m: Throwing a custom Error"
     ]
    }
   ],
   "source": [
    "class MyException(Exception):\n",
    "    def __init__(self):\n",
    "        super(Exception, self).__init__()\n",
    "        self.args = (\"Throwing a custom Error\",)\n",
    "\n",
    "raise MyException"
   ]
  },
  {
   "cell_type": "markdown",
   "id": "ddb56cee",
   "metadata": {},
   "source": [
    "<h2>Module 2: Function and Class Assignment"
   ]
  },
  {
   "cell_type": "markdown",
   "id": "f9ba2c18",
   "metadata": {},
   "source": [
    "<h4>1. Create a function named ‘factor’ that can only accepts 1 argument. The function should\n",
    "return the factorial of that number"
   ]
  },
  {
   "cell_type": "code",
   "execution_count": 22,
   "id": "68a0a85c",
   "metadata": {},
   "outputs": [
    {
     "data": {
      "text/plain": [
       "720"
      ]
     },
     "execution_count": 22,
     "metadata": {},
     "output_type": "execute_result"
    }
   ],
   "source": [
    "def factor(num):\n",
    "    if(num == 0):\n",
    "        return 1\n",
    "    return num * factor(num - 1)\n",
    "\n",
    "factor(6)"
   ]
  },
  {
   "cell_type": "markdown",
   "id": "24ec08bc",
   "metadata": {},
   "source": [
    "<h4>2. Create a function named ‘check_string’, the function should accept a string data from the\n",
    "user and the function should check if the user input contains the letter ‘s’ in it. If it contains\n",
    "the letter ‘s’ then print- ‘The string is containing the letter ‘s’’, if not then print- ‘The string\n",
    "doesn’t contain the letter ‘s’’"
   ]
  },
  {
   "cell_type": "code",
   "execution_count": 23,
   "id": "ba73a544",
   "metadata": {},
   "outputs": [
    {
     "name": "stdout",
     "output_type": "stream",
     "text": [
      "The string is containing the letter ‘s’\n"
     ]
    }
   ],
   "source": [
    "def check_string(string):\n",
    "    flag = False\n",
    "    for ch in string:\n",
    "        if(ch == 's' or ch == 'S'):\n",
    "            flag = True\n",
    "    if(flag):\n",
    "        print(\"The string is containing the letter ‘s’\")\n",
    "    else:\n",
    "        print(\"The string doesn’t contain the letter ‘s’\")\n",
    "        \n",
    "string = \"Hello how do you do fellas\"\n",
    "check_string(string)"
   ]
  },
  {
   "cell_type": "markdown",
   "id": "49d8ba94",
   "metadata": {},
   "source": [
    "<h4>3. Create a class named ‘student’ and inside the class, create a function named ‘fun1’- this\n",
    "method should accepts the user defined input and return that value.\n",
    "    \n",
    "a. Create another method named- message() and that method should print the user\n",
    "defined input that we have defined in ‘fun1’."
   ]
  },
  {
   "cell_type": "code",
   "execution_count": 25,
   "id": "13d08e09",
   "metadata": {},
   "outputs": [
    {
     "name": "stdout",
     "output_type": "stream",
     "text": [
      "Enter the value input: Dexter\n",
      "Dexter\n"
     ]
    }
   ],
   "source": [
    "class student:\n",
    "    val = \"\"\n",
    "    \n",
    "    def fun1(self):\n",
    "        inputVal = input(\"Enter the value input: \")\n",
    "        self.val = inputVal\n",
    "    \n",
    "    def fun2(self):\n",
    "        print(self.val)\n",
    "\n",
    "student1 = student()\n",
    "student1.fun1()\n",
    "student1.fun2()"
   ]
  },
  {
   "cell_type": "markdown",
   "id": "6bd99774",
   "metadata": {},
   "source": [
    "<h4>4. Create a lambda function that should double or multiply the number (that we will be passing\n",
    "in the lambda function) by 2. Store the lambda function in a variable named ‘double_num’"
   ]
  },
  {
   "cell_type": "code",
   "execution_count": 27,
   "id": "230de025",
   "metadata": {},
   "outputs": [
    {
     "data": {
      "text/plain": [
       "12"
      ]
     },
     "execution_count": 27,
     "metadata": {},
     "output_type": "execute_result"
    }
   ],
   "source": [
    "double_num = lambda x : x * 2\n",
    "\n",
    "double_num(6)"
   ]
  },
  {
   "cell_type": "markdown",
   "id": "bbcbccc1",
   "metadata": {},
   "source": [
    "<h4>5. Take user input string and check whether that string is palindrome or not"
   ]
  },
  {
   "cell_type": "code",
   "execution_count": 34,
   "id": "a3ca2538",
   "metadata": {},
   "outputs": [
    {
     "data": {
      "text/plain": [
       "True"
      ]
     },
     "execution_count": 34,
     "metadata": {},
     "output_type": "execute_result"
    }
   ],
   "source": [
    "def is_palindrome(string):\n",
    "    return string == string[::-1]\n",
    "\n",
    "string = \"tot\"\n",
    "is_palindrome(string)"
   ]
  },
  {
   "cell_type": "markdown",
   "id": "c81096c3",
   "metadata": {},
   "source": [
    "<h2>Module 2: Functions Assignment"
   ]
  },
  {
   "cell_type": "markdown",
   "id": "483354ad",
   "metadata": {},
   "source": [
    "<h4>1. Create a class named ‘Super’ and inside that class define a user-defined function named\n",
    "fun1.\n",
    "    \n",
    "a. Inside the ‘fun1’ function, pass the message “This is function 1 in the Super class.”\n",
    "in the print statement."
   ]
  },
  {
   "cell_type": "code",
   "execution_count": 36,
   "id": "4e1a0672",
   "metadata": {},
   "outputs": [
    {
     "name": "stdout",
     "output_type": "stream",
     "text": [
      "This is function 1 in the Super class.\n"
     ]
    }
   ],
   "source": [
    "class Super:\n",
    "    def fun1(self):\n",
    "        print(\"This is function 1 in the Super class.\")\n",
    "\n",
    "obj = Super()\n",
    "obj.fun1()"
   ]
  },
  {
   "cell_type": "markdown",
   "id": "0fefa530",
   "metadata": {},
   "source": [
    "<h4>2. Create another classed named ‘Modified_Super’ and inherit this class from the Super class.\n",
    "    \n",
    "a. Inside the Modified_Super class, create a function named ‘fun1’ and pass the\n",
    "following message inside the print statement: ‘This is function 1 in the Modified\n",
    "Super class.’\n",
    "    \n",
    "b. Create another user-defined function named ‘fun2’ and pass the message: ‘This is\n",
    "the 2nd function from the Modified Super class’ in the print statement.\n",
    "    \n",
    "c. After that, now create an object for the Modified_Super class and call the fun1()."
   ]
  },
  {
   "cell_type": "code",
   "execution_count": 39,
   "id": "7aa0ae2c",
   "metadata": {},
   "outputs": [
    {
     "name": "stdout",
     "output_type": "stream",
     "text": [
      "This is function 1 in the Modified Super class.\n"
     ]
    }
   ],
   "source": [
    "class Modified_Super(Super):\n",
    "    def fun1(self):\n",
    "        print(\"This is function 1 in the Modified Super class.\")\n",
    "    \n",
    "    def fun2(self):\n",
    "        print(\"This is the 2nd function from the Modified Super class\")\n",
    "\n",
    "obj2 = Modified_Super()\n",
    "obj2.fun1()"
   ]
  },
  {
   "cell_type": "markdown",
   "id": "5a10423a",
   "metadata": {},
   "source": [
    "<h4>3. Create 2 methods named ‘Hello’. In the 1st Hello method, pass only one argument and pass\n",
    "this message: ‘This function is only having 1 argument’. And in the 2nd Hello method, pass\n",
    "two arguments and pass this message: ‘This function is having 2 arguments’.\n",
    "a. Try to call both the methods and analyze the output of both the methods."
   ]
  },
  {
   "cell_type": "code",
   "execution_count": 28,
   "id": "fb54ae8c",
   "metadata": {},
   "outputs": [
    {
     "ename": "TypeError",
     "evalue": "Hello() missing 1 required positional argument: 'arg2'",
     "output_type": "error",
     "traceback": [
      "\u001b[1;31m---------------------------------------------------------------------------\u001b[0m",
      "\u001b[1;31mTypeError\u001b[0m                                 Traceback (most recent call last)",
      "\u001b[1;32m<ipython-input-28-d087826b1299>\u001b[0m in \u001b[0;36m<module>\u001b[1;34m\u001b[0m\n\u001b[0;32m      5\u001b[0m     \u001b[0mprint\u001b[0m\u001b[1;33m(\u001b[0m\u001b[1;34m\"This function is having 2 arguments\"\u001b[0m\u001b[1;33m)\u001b[0m\u001b[1;33m\u001b[0m\u001b[1;33m\u001b[0m\u001b[0m\n\u001b[0;32m      6\u001b[0m \u001b[1;33m\u001b[0m\u001b[0m\n\u001b[1;32m----> 7\u001b[1;33m \u001b[0mprint\u001b[0m\u001b[1;33m(\u001b[0m\u001b[0mHello\u001b[0m\u001b[1;33m(\u001b[0m\u001b[1;36m1\u001b[0m\u001b[1;33m)\u001b[0m\u001b[1;33m)\u001b[0m\u001b[1;33m\u001b[0m\u001b[1;33m\u001b[0m\u001b[0m\n\u001b[0m",
      "\u001b[1;31mTypeError\u001b[0m: Hello() missing 1 required positional argument: 'arg2'"
     ]
    }
   ],
   "source": [
    "def Hello(arg):\n",
    "    print(\"This function is only having 1 argument\")\n",
    "    \n",
    "def Hello(arg1, arg2):\n",
    "    print(\"This function is having 2 arguments\")\n",
    "    \n",
    "print(Hello(1))\n"
   ]
  },
  {
   "cell_type": "code",
   "execution_count": 42,
   "id": "c4650ca4",
   "metadata": {},
   "outputs": [
    {
     "name": "stdout",
     "output_type": "stream",
     "text": [
      "This function is having 2 arguments\n",
      "None\n"
     ]
    }
   ],
   "source": [
    "print(Hello(1,2))"
   ]
  },
  {
   "cell_type": "markdown",
   "id": "dafd8d65",
   "metadata": {},
   "source": [
    "<h4>4. Create a method named ‘Sum’ that can accept multiple user inputs. Now add those user-\n",
    "defined input values using for loop and the function should return the addition of the\n",
    "numbers.\n",
    "    "
   ]
  },
  {
   "cell_type": "code",
   "execution_count": 43,
   "id": "92292ea2",
   "metadata": {},
   "outputs": [
    {
     "data": {
      "text/plain": [
       "5"
      ]
     },
     "execution_count": 43,
     "metadata": {},
     "output_type": "execute_result"
    }
   ],
   "source": [
    "def Sum(*args):\n",
    "    result = 0\n",
    "    for i in args:\n",
    "        result += i\n",
    "    return result\n",
    "\n",
    "Sum(2, 3)\n",
    "    "
   ]
  },
  {
   "cell_type": "code",
   "execution_count": 45,
   "id": "bfd9ed23",
   "metadata": {},
   "outputs": [
    {
     "data": {
      "text/plain": [
       "15"
      ]
     },
     "execution_count": 45,
     "metadata": {},
     "output_type": "execute_result"
    }
   ],
   "source": [
    "Sum(3,5,7)"
   ]
  },
  {
   "cell_type": "code",
   "execution_count": 46,
   "id": "d5bcc36c",
   "metadata": {},
   "outputs": [
    {
     "data": {
      "text/plain": [
       "1"
      ]
     },
     "execution_count": 46,
     "metadata": {},
     "output_type": "execute_result"
    }
   ],
   "source": [
    "Sum(1)"
   ]
  },
  {
   "cell_type": "markdown",
   "id": "1eef6e30",
   "metadata": {},
   "source": [
    "<h4>5. Create a class named ‘Encapsulation’:\n",
    "    \n",
    "a. Inside the class, first create a constructor. Inside the constructor, initialize\n",
    "originalValue variable as 10.\n",
    " \n",
    "b. After creating the constructor, define a function named ‘Value’ and this function\n",
    "should return the variable that we have initialized in the constructor.\n",
    "    \n",
    "c. Now create 2nd function named setValue, and pass an argument named\n",
    "‘newValue’. The task of this function will be to replace the value of the\n",
    "originalValue variable by the value of newValue variable."
   ]
  },
  {
   "cell_type": "code",
   "execution_count": 50,
   "id": "6eafb6aa",
   "metadata": {},
   "outputs": [
    {
     "name": "stdout",
     "output_type": "stream",
     "text": [
      "Before setValue:  10\n",
      "After setValue:  20\n"
     ]
    }
   ],
   "source": [
    "class Encapsulation:\n",
    "    originalValue = 0\n",
    "    def __init__(self):\n",
    "        self.originalValue = 10\n",
    "    \n",
    "    def Value(self):\n",
    "        return self.originalValue\n",
    "    \n",
    "    def setValue(self, newValue):\n",
    "        self.originalValue = newValue\n",
    "        \n",
    "\n",
    "obj = Encapsulation()\n",
    "print(\"Before setValue: \",obj.Value())\n",
    "obj.setValue(20)\n",
    "print(\"After setValue: \",obj.Value())"
   ]
  },
  {
   "cell_type": "markdown",
   "id": "7b51822c",
   "metadata": {},
   "source": [
    "<h2>Module 2: Import Assignment"
   ]
  },
  {
   "cell_type": "markdown",
   "id": "547946d1",
   "metadata": {},
   "source": [
    "<h4>1. Create a python file named Module.\n",
    "a. Inside the file, define 4 methods named – addition, subtraction, multiplication, and\n",
    "division.\n",
    "b. Each method should only accept 2 arguments and should return the result of operation\n",
    "performed in each method. For e.g., addition() should return the sum of two arguments.\n",
    "c. Save the Module file in .py format."
   ]
  },
  {
   "cell_type": "markdown",
   "id": "ffd7e85c",
   "metadata": {},
   "source": [
    "<h4>2. Open a new python file and import the Module.py file.\n",
    "a. Now call the 4 methods from the Module.py file, i.e., addition(), subtraction(),\n",
    "multiplication(), and division()."
   ]
  },
  {
   "cell_type": "markdown",
   "id": "2c2fc674",
   "metadata": {},
   "source": [
    "<h4>3. From the Module file, import only the addition() and pass the arguments so that it can\n",
    "display the result from the method."
   ]
  },
  {
   "cell_type": "code",
   "execution_count": 54,
   "id": "e4a32006",
   "metadata": {},
   "outputs": [],
   "source": [
    "from Module import addition"
   ]
  },
  {
   "cell_type": "code",
   "execution_count": 55,
   "id": "bf341e3e",
   "metadata": {},
   "outputs": [
    {
     "data": {
      "text/plain": [
       "11"
      ]
     },
     "execution_count": 55,
     "metadata": {},
     "output_type": "execute_result"
    }
   ],
   "source": [
    "addition(5,6)"
   ]
  },
  {
   "cell_type": "markdown",
   "id": "26fc34c0",
   "metadata": {},
   "source": [
    "<h4>4. From the Module file, import only the subtraction() and pass the arguments so that it can\n",
    "display the result from the method."
   ]
  },
  {
   "cell_type": "code",
   "execution_count": 56,
   "id": "6cf416ca",
   "metadata": {},
   "outputs": [],
   "source": [
    "from Module import subtraction"
   ]
  },
  {
   "cell_type": "code",
   "execution_count": 57,
   "id": "89feee8a",
   "metadata": {},
   "outputs": [
    {
     "data": {
      "text/plain": [
       "-1"
      ]
     },
     "execution_count": 57,
     "metadata": {},
     "output_type": "execute_result"
    }
   ],
   "source": [
    "subtraction(7,8)"
   ]
  },
  {
   "cell_type": "markdown",
   "id": "0d1c66f6",
   "metadata": {},
   "source": [
    "<h4>5. From the Module file, import both the multiplication() and division() and pass the arguments\n",
    "so that it can display the result from the methods."
   ]
  },
  {
   "cell_type": "code",
   "execution_count": 59,
   "id": "324c97c8",
   "metadata": {},
   "outputs": [],
   "source": [
    "from Module import multiplication, division"
   ]
  },
  {
   "cell_type": "code",
   "execution_count": 60,
   "id": "9ddb105e",
   "metadata": {},
   "outputs": [
    {
     "data": {
      "text/plain": [
       "72"
      ]
     },
     "execution_count": 60,
     "metadata": {},
     "output_type": "execute_result"
    }
   ],
   "source": [
    "multiplication(8,9)"
   ]
  },
  {
   "cell_type": "code",
   "execution_count": 61,
   "id": "801e85b8",
   "metadata": {},
   "outputs": [
    {
     "data": {
      "text/plain": [
       "0.6666666666666666"
      ]
     },
     "execution_count": 61,
     "metadata": {},
     "output_type": "execute_result"
    }
   ],
   "source": [
    "division(2,3)"
   ]
  },
  {
   "cell_type": "markdown",
   "id": "c855642e",
   "metadata": {},
   "source": [
    "<h2>Module 2: Inheritance Assignment"
   ]
  },
  {
   "cell_type": "markdown",
   "id": "3e40ea1e",
   "metadata": {},
   "source": [
    "<h4>1. Create a class named parent_Class and inside the class, initialize a global variable num as 10.\n",
    "    \n",
    "a. Create another class named child_Class and this class should be inherited from the\n",
    "parent class.\n",
    "    \n",
    "b. Now create an object for the child_Class and with the help of child_Class object, display\n",
    "the value of ‘num’."
   ]
  },
  {
   "cell_type": "code",
   "execution_count": 4,
   "id": "4ed2714e",
   "metadata": {},
   "outputs": [
    {
     "data": {
      "text/plain": [
       "10"
      ]
     },
     "execution_count": 4,
     "metadata": {},
     "output_type": "execute_result"
    }
   ],
   "source": [
    "class parent_Class():\n",
    "    num = 10\n",
    "    \n",
    "class child_Class(parent_Class):\n",
    "    val = 20\n",
    "    \n",
    "obj = child_Class()\n",
    "\n",
    "obj.num"
   ]
  },
  {
   "cell_type": "markdown",
   "id": "51f9da65",
   "metadata": {},
   "source": [
    "<h4>2. Create three class named A, B, and C.\n",
    "    \n",
    "a. Inside the A class, create a constructor. Inside the constructor, initilize 2 global variables-\n",
    "name and age.\n",
    "    \n",
    "b. After initializing the global variables inside the constructor, now create a funtion named\n",
    "‘details’ and that function should return the ‘name’ variable.\n",
    "    \n",
    "c. Inside the B class, create a constructor. Inside the contructor, initialize 2 global veriables-\n",
    "name and id.\n",
    "    \n",
    "d. After initializing the global variables inside the constructor, now create a funtion named\n",
    "‘details’ and that function should return the ‘name’ variable.\n",
    "    \n",
    "e. The C class should inherit from class A, and B. Inside the class C, create a constructor,\n",
    "and inside the constructor, call the contructor of class A.\n",
    "    \n",
    "f. Now, create a method inside the class C, as get_details, and this fucntion should return\n",
    "the vaue of name.\n",
    "    \n",
    "g. Atlast, create an object of class C, and with the help of the object, call the get_details()."
   ]
  },
  {
   "cell_type": "code",
   "execution_count": 15,
   "id": "b24ff884",
   "metadata": {},
   "outputs": [
    {
     "data": {
      "text/plain": [
       "'John'"
      ]
     },
     "execution_count": 15,
     "metadata": {},
     "output_type": "execute_result"
    }
   ],
   "source": [
    "class A:\n",
    "    \n",
    "    def __init__(self):\n",
    "        self.name = \"John\"\n",
    "        self.age = 25\n",
    "        \n",
    "    def details(self):\n",
    "        return self.name\n",
    "\n",
    "class B:\n",
    "\n",
    "    def __init__(self):\n",
    "        self.name = \"Doe\"\n",
    "        self.ID = 101\n",
    "        \n",
    "    def details():\n",
    "        return self.name\n",
    "\n",
    "class C(A, B):\n",
    "    \n",
    "    def __init__(self):\n",
    "        A.__init__(self)\n",
    "    \n",
    "    def getDetails(self):\n",
    "        return self.name\n",
    "\n",
    "\n",
    "obj = C()\n",
    "obj.details()\n",
    "        \n",
    "    "
   ]
  },
  {
   "cell_type": "markdown",
   "id": "1faa1c31",
   "metadata": {},
   "source": [
    "<h4>3. Create a class named ‘Sub1’, inside the class, generate a user defined function named ‘first’\n",
    "and inside the function, pass the following statement in the print()- ‘This is the first function\n",
    "from Sub 1 class’.\n",
    "    \n",
    "a. Now create another class named ‘Sub2’, and inside the class, create a function\n",
    "named ‘second’, and pass the following message in the print()- ‘This is the\n",
    "second function from the Sub 2 class’.\n",
    "    \n",
    "b. After that, create another class named ‘Super’ and inside that class, create a\n",
    "method named ‘final’, and pass the below message in the print()- ‘This is the\n",
    "final method from the super class’.\n",
    "    \n",
    "c. Now, create an object for the Super class and call all the 3 user defined\n",
    "methods, i.e., first(), second(), and final()"
   ]
  },
  {
   "cell_type": "code",
   "execution_count": 17,
   "id": "fde36d6a",
   "metadata": {},
   "outputs": [
    {
     "name": "stdout",
     "output_type": "stream",
     "text": [
      "This is the first function from Sub 1 class\n",
      "This is the second function from the Sub 2 class\n",
      "This is the final method from the super class\n"
     ]
    }
   ],
   "source": [
    "class Sub1:\n",
    "    def first(self):\n",
    "        print(\"This is the first function from Sub 1 class\")\n",
    "    \n",
    "class Sub2:\n",
    "    def second(self):\n",
    "        print(\"This is the second function from the Sub 2 class\")\n",
    "    \n",
    "class Super(Sub1, Sub2):\n",
    "    def final(self):\n",
    "        print(\"This is the final method from the super class\")\n",
    "\n",
    "obj = Super()\n",
    "obj.first()\n",
    "obj.second()\n",
    "obj.final()"
   ]
  },
  {
   "cell_type": "markdown",
   "id": "b338f52e",
   "metadata": {},
   "source": [
    "<h4>4. Create a class named ‘Parent’, and inside the class, create a function named ‘fun1’ and pass\n",
    "the following message in the print()- ‘This is the message from the fun1’.\n",
    "    \n",
    "a. Now create a class named ‘Child1’ and inside the class, create a method named ‘fun2’\n",
    "and pass the following message in the print()- ‘This is the message from the fun2’.\n",
    "    \n",
    "b. After that, create another class named ‘Child2’ and inside the class, create a method\n",
    "named ‘fun3’ and pass the following message in the print()- ‘This is the message from\n",
    "the fun3’.\n",
    "    \n",
    "c. Now, create an object of Child2 class and with the help of the object, call the ‘fun1’\n",
    "method from the ‘Parent’ class."
   ]
  },
  {
   "cell_type": "code",
   "execution_count": 26,
   "id": "e070d69f",
   "metadata": {},
   "outputs": [
    {
     "name": "stdout",
     "output_type": "stream",
     "text": [
      "This is the message from the fun1\n"
     ]
    }
   ],
   "source": [
    "class parent:\n",
    "    def fun1(self):\n",
    "        print(\"This is the message from the fun1\")\n",
    "\n",
    "class child1(parent):\n",
    "    def fun2(self):\n",
    "        print(\"This is the message from the fun2\")\n",
    "        \n",
    "class child2(parent):\n",
    "    def fun3(self):\n",
    "        print(\"This is the message from the fun3\")\n",
    "        \n",
    "obj = child2()\n",
    "obj.fun1()"
   ]
  },
  {
   "cell_type": "markdown",
   "id": "307bdcdb",
   "metadata": {},
   "source": [
    "<h4>5. Create a class named ‘Parent’, and inside the class, create a function named ‘fun1’ and pass\n",
    "the following message in the print()- ‘This is the message from the fun1’.\n",
    "    \n",
    "a. Now create a class named ‘Child’ and inside the class, create a method named ‘fun2’ and\n",
    "pass the following message in the print()- ‘This is the message from the fun2’.\n",
    "    \n",
    "b. After that, create another class named ‘Hybrid’ and inside the class, create a method\n",
    "named ‘fun3’ and pass the following message in the print()- ‘This is the message from\n",
    "the fun3’.\n",
    "    \n",
    "c. Now, create an object of Hybrid class and with the help of the object, call the ‘fun1’,\n",
    "‘fun2’, and ‘fun3’ methods."
   ]
  },
  {
   "cell_type": "code",
   "execution_count": 27,
   "id": "ca059a05",
   "metadata": {},
   "outputs": [
    {
     "name": "stdout",
     "output_type": "stream",
     "text": [
      "This is the message from the fun1\n",
      "This is the message from the fun2\n",
      "This is the message from the fun3\n"
     ]
    }
   ],
   "source": [
    "class Child:\n",
    "    def fun2(self):\n",
    "        print(\"This is the message from the fun2\")\n",
    "\n",
    "class Hybrid(Parent, Child):\n",
    "    def fun3(self):\n",
    "        print(\"This is the message from the fun3\")\n",
    "\n",
    "obj = Hybrid()\n",
    "obj.fun1()\n",
    "obj.fun2()\n",
    "obj.fun3()"
   ]
  },
  {
   "cell_type": "code",
   "execution_count": null,
   "id": "7faabc16",
   "metadata": {},
   "outputs": [],
   "source": []
  }
 ],
 "metadata": {
  "kernelspec": {
   "display_name": "Python 3",
   "language": "python",
   "name": "python3"
  },
  "language_info": {
   "codemirror_mode": {
    "name": "ipython",
    "version": 3
   },
   "file_extension": ".py",
   "mimetype": "text/x-python",
   "name": "python",
   "nbconvert_exporter": "python",
   "pygments_lexer": "ipython3",
   "version": "3.8.8"
  }
 },
 "nbformat": 4,
 "nbformat_minor": 5
}
