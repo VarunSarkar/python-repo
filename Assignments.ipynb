{
 "cells": [
  {
   "cell_type": "markdown",
   "id": "a8b05c5f",
   "metadata": {},
   "source": [
    "<h1>Assignments</h1>"
   ]
  },
  {
   "cell_type": "markdown",
   "id": "ee46a5d0",
   "metadata": {},
   "source": [
    "<h3>Assignment 1</h3>"
   ]
  },
  {
   "cell_type": "markdown",
   "id": "58d00263",
   "metadata": {},
   "source": [
    "<h4>Input the values of a and b as 10 and 20 respectively. Now check if a is greater or b is greater using if condition. Think about all the edge cases, and print the statements according</h4>"
   ]
  },
  {
   "cell_type": "code",
   "execution_count": 1,
   "id": "af9a70c1",
   "metadata": {},
   "outputs": [
    {
     "name": "stdout",
     "output_type": "stream",
     "text": [
      "Enter number a:23\n",
      "Enter number b:34\n",
      "b: 34 is greater than a: 23\n"
     ]
    }
   ],
   "source": [
    "a = int(input(\"Enter number a:\"))\n",
    "b = int(input(\"Enter number b:\"))\n",
    "\n",
    "if(a > b):\n",
    "    print(f\"a: {a} is greater than b: {b}\")\n",
    "elif(a == b):\n",
    "    print(f\"a: {a} is equal to b: {b}\")\n",
    "else:\n",
    "    print(f\"b: {b} is greater than a: {a}\")"
   ]
  },
  {
   "cell_type": "markdown",
   "id": "49504d26",
   "metadata": {},
   "source": [
    "<h3>Assignment 2</h3>"
   ]
  },
  {
   "cell_type": "markdown",
   "id": "ee149285",
   "metadata": {},
   "source": [
    "<h4> Take three user inputs and print the greatest number from those inputs using if-else condition. Edge cases if any, should also be handled.</h4>"
   ]
  },
  {
   "cell_type": "code",
   "execution_count": 2,
   "id": "5196b1d2",
   "metadata": {},
   "outputs": [
    {
     "name": "stdout",
     "output_type": "stream",
     "text": [
      "Enter number a:12\n",
      "Enter number b:23\n",
      "Enter number c:34\n",
      "c: 34 is greatest\n"
     ]
    }
   ],
   "source": [
    "a = int(input(\"Enter number a:\"))\n",
    "b = int(input(\"Enter number b:\"))\n",
    "c = int(input(\"Enter number c:\"))\n",
    "\n",
    "if(a > b):\n",
    "    if(a > c):\n",
    "        print(f\"a: {a} is greatest\")\n",
    "    else:\n",
    "        print(f\"c: {c} is greatest\")\n",
    "elif(b > c):\n",
    "    print(f\"b: {b} is greatest\")\n",
    "else:\n",
    "    print(f\"c: {c} is greatest\")"
   ]
  },
  {
   "cell_type": "markdown",
   "id": "6c5578eb",
   "metadata": {},
   "source": [
    "<h3>Assignment 3</h3>"
   ]
  },
  {
   "cell_type": "markdown",
   "id": "62ddf20d",
   "metadata": {},
   "source": [
    "<h4>Print the numbers from 1 to 10 using while loop.</h4>"
   ]
  },
  {
   "cell_type": "code",
   "execution_count": 2,
   "id": "0b12d29a",
   "metadata": {},
   "outputs": [
    {
     "name": "stdout",
     "output_type": "stream",
     "text": [
      "1\n",
      "2\n",
      "3\n",
      "4\n",
      "5\n",
      "6\n",
      "7\n",
      "8\n",
      "9\n",
      "10\n"
     ]
    }
   ],
   "source": [
    "i = 1\n",
    "while i <= 10:\n",
    "    print(i)\n",
    "    i += 1\n"
   ]
  },
  {
   "cell_type": "markdown",
   "id": "b2153c42",
   "metadata": {},
   "source": [
    "<h3>Assignment 4</h3>"
   ]
  },
  {
   "cell_type": "markdown",
   "id": "4dd8312a",
   "metadata": {},
   "source": [
    "<h4>Create a list that is having 10,23,4,26,4,75,24,54 values and with the help of while loop, fetch the even numbers and print the numbers. </h4>"
   ]
  },
  {
   "cell_type": "code",
   "execution_count": 3,
   "id": "31eb15e4",
   "metadata": {},
   "outputs": [
    {
     "name": "stdout",
     "output_type": "stream",
     "text": [
      "10\n",
      "4\n",
      "26\n",
      "4\n",
      "24\n",
      "54\n"
     ]
    }
   ],
   "source": [
    "arr = [10,23,4,26,4,75,24,54]\n",
    "\n",
    "i = 0\n",
    "\n",
    "while i < len(arr):\n",
    "    if(arr[i] % 2 == 0):\n",
    "        print(arr[i])\n",
    "    i += 1\n",
    "\n"
   ]
  },
  {
   "cell_type": "markdown",
   "id": "1932eb7f",
   "metadata": {},
   "source": [
    "<h3>Assignment 5</h3>"
   ]
  },
  {
   "cell_type": "markdown",
   "id": "888cbfcd",
   "metadata": {},
   "source": [
    "<h4>Create an array that is having user defined inputs and with the help of for loop, fetch all the prime numbers and print the numbers.</h4>"
   ]
  },
  {
   "cell_type": "code",
   "execution_count": 15,
   "id": "61aca67a",
   "metadata": {},
   "outputs": [
    {
     "name": "stdout",
     "output_type": "stream",
     "text": [
      "Enter Length of List:10\n",
      "Element 1:1\n",
      "Element 2:2\n",
      "Element 3:3\n",
      "Element 4:4\n",
      "Element 5:5\n",
      "Element 6:6\n",
      "Element 7:7\n",
      "Element 8:8\n",
      "Element 9:9\n",
      "Element 10:10\n",
      "Prime Numbers: 2, 3, 5, 7, "
     ]
    }
   ],
   "source": [
    "import math\n",
    "\n",
    "def findPrimes(arr):\n",
    "    primes = []\n",
    "    for elem in (arr):\n",
    "        flag = 0\n",
    "        if(elem == 1): flag = 1\n",
    "        div = math.floor(math.sqrt(elem)) + 1\n",
    "        for i in range(2, div):\n",
    "            if(elem % i == 0):\n",
    "                flag = 1\n",
    "        if(flag == 0):\n",
    "            primes.append(elem)\n",
    "    return primes\n",
    "\n",
    "\n",
    "length = int(input(\"Enter Length of List:\"))\n",
    "\n",
    "arr = [\n",
    "    \n",
    "]\n",
    "for i in range(length):\n",
    "    ans = int(input(f\"Element {i + 1}:\"))\n",
    "    arr.append(ans)\n",
    "\n",
    "primes = findPrimes(arr)\n",
    "print(\"Prime Numbers:\", end = \" \")\n",
    "for i in primes:\n",
    "    print(i, end = \", \")\n"
   ]
  },
  {
   "cell_type": "markdown",
   "id": "11e86396",
   "metadata": {},
   "source": [
    "<h3>End of Assignments - Thank you</h3>"
   ]
  }
 ],
 "metadata": {
  "kernelspec": {
   "display_name": "Python 3",
   "language": "python",
   "name": "python3"
  },
  "language_info": {
   "codemirror_mode": {
    "name": "ipython",
    "version": 3
   },
   "file_extension": ".py",
   "mimetype": "text/x-python",
   "name": "python",
   "nbconvert_exporter": "python",
   "pygments_lexer": "ipython3",
   "version": "3.8.8"
  }
 },
 "nbformat": 4,
 "nbformat_minor": 5
}
