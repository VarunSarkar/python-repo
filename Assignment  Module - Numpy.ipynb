{
 "cells": [
  {
   "cell_type": "markdown",
   "id": "b19b692c",
   "metadata": {},
   "source": [
    "<h1>Asignments</h1>"
   ]
  },
  {
   "cell_type": "markdown",
   "id": "efbb24bb",
   "metadata": {},
   "source": [
    "<h2>Module 4: Data Structure Assignment </h2>"
   ]
  },
  {
   "cell_type": "markdown",
   "id": "590b13dc",
   "metadata": {},
   "source": [
    "<h4>Create a list named ‘myList’ that is having the following elements: 10,20,30,’apple’, True, 8.10. \n",
    "<h4>a. Now in the ‘myList’, append these values: 30,40  \n",
    "<h4>b. After that reverse the elements of the ‘myList’ and store that in ‘reversedList’ "
   ]
  },
  {
   "cell_type": "code",
   "execution_count": 1,
   "id": "60d7e44f",
   "metadata": {},
   "outputs": [],
   "source": [
    "myList = [10,20,30,'apple', True, 8.10]"
   ]
  },
  {
   "cell_type": "code",
   "execution_count": 2,
   "id": "9d2b846f",
   "metadata": {},
   "outputs": [
    {
     "data": {
      "text/plain": [
       "[10, 20, 30, 'apple', True, 8.1]"
      ]
     },
     "execution_count": 2,
     "metadata": {},
     "output_type": "execute_result"
    }
   ],
   "source": [
    "myList"
   ]
  },
  {
   "cell_type": "code",
   "execution_count": 3,
   "id": "0fdc8c5d",
   "metadata": {},
   "outputs": [],
   "source": [
    "myList.append(30)\n",
    "myList.append(40)"
   ]
  },
  {
   "cell_type": "code",
   "execution_count": 4,
   "id": "8237d545",
   "metadata": {},
   "outputs": [
    {
     "data": {
      "text/plain": [
       "[10, 20, 30, 'apple', True, 8.1, 30, 40]"
      ]
     },
     "execution_count": 4,
     "metadata": {},
     "output_type": "execute_result"
    }
   ],
   "source": [
    "myList"
   ]
  },
  {
   "cell_type": "code",
   "execution_count": 5,
   "id": "d028001f",
   "metadata": {},
   "outputs": [],
   "source": [
    "def Reverse(List):\n",
    "    return [x for x in reversed(List)]"
   ]
  },
  {
   "cell_type": "code",
   "execution_count": 6,
   "id": "0d33854b",
   "metadata": {},
   "outputs": [],
   "source": [
    "reversedList = Reverse(myList)"
   ]
  },
  {
   "cell_type": "code",
   "execution_count": 7,
   "id": "9ad3ccba",
   "metadata": {},
   "outputs": [
    {
     "name": "stdout",
     "output_type": "stream",
     "text": [
      "[10, 20, 30, 'apple', True, 8.1, 30, 40] \n",
      " [40, 30, 8.1, True, 'apple', 30, 20, 10]\n"
     ]
    }
   ],
   "source": [
    "print(myList, \"\\n\", reversedList)"
   ]
  },
  {
   "cell_type": "markdown",
   "id": "5dddf355",
   "metadata": {},
   "source": [
    "<h4>Create a dictonary with key values as 1,2,3 and the values as ‘data’,’information’, and ‘text’. \n",
    "<h4>a. After that eliminate the ‘text’ value form the dictonary. \n",
    "<h4>b. Add ‘features’ in the dictonary. \n",
    "<h4>c. Fetch the ‘data’ element from the dictonary and display it in the output. "
   ]
  },
  {
   "cell_type": "code",
   "execution_count": 8,
   "id": "9314bab5",
   "metadata": {},
   "outputs": [],
   "source": [
    "dictionary = {\"1\":\"data\", \"2\": \"information\", \"3\": \"text\"}"
   ]
  },
  {
   "cell_type": "code",
   "execution_count": 9,
   "id": "7661a8ab",
   "metadata": {},
   "outputs": [],
   "source": [
    "del(dictionary[\"3\"])"
   ]
  },
  {
   "cell_type": "code",
   "execution_count": 10,
   "id": "2c6100b6",
   "metadata": {},
   "outputs": [
    {
     "data": {
      "text/plain": [
       "{'1': 'data', '2': 'information'}"
      ]
     },
     "execution_count": 10,
     "metadata": {},
     "output_type": "execute_result"
    }
   ],
   "source": [
    "dictionary"
   ]
  },
  {
   "cell_type": "code",
   "execution_count": 11,
   "id": "e2c03afb",
   "metadata": {},
   "outputs": [],
   "source": [
    "dictionary[\"4\"] = \"features\""
   ]
  },
  {
   "cell_type": "code",
   "execution_count": 12,
   "id": "ce7132b9",
   "metadata": {},
   "outputs": [
    {
     "data": {
      "text/plain": [
       "{'1': 'data', '2': 'information', '4': 'features'}"
      ]
     },
     "execution_count": 12,
     "metadata": {},
     "output_type": "execute_result"
    }
   ],
   "source": [
    "dictionary"
   ]
  },
  {
   "cell_type": "code",
   "execution_count": 13,
   "id": "311b528b",
   "metadata": {},
   "outputs": [
    {
     "name": "stdout",
     "output_type": "stream",
     "text": [
      "1, data\n"
     ]
    }
   ],
   "source": [
    "for key, value in dictionary.items():\n",
    "    if(value == \"data\"):\n",
    "        print(f\"{key}, {value}\")\n",
    "\n"
   ]
  },
  {
   "cell_type": "markdown",
   "id": "c0032f34",
   "metadata": {},
   "source": [
    "<h4>Create a tuple and add these elements 1,2,3,apple,mango in ‘my_tuple"
   ]
  },
  {
   "cell_type": "code",
   "execution_count": 14,
   "id": "5242afd4",
   "metadata": {},
   "outputs": [],
   "source": [
    "Tuple = (1,2,3,\"apple\",\"mango\")\n",
    "my_tuple = Tuple"
   ]
  },
  {
   "cell_type": "code",
   "execution_count": 15,
   "id": "e8cf8f42",
   "metadata": {},
   "outputs": [
    {
     "data": {
      "text/plain": [
       "(1, 2, 3, 'apple', 'mango')"
      ]
     },
     "execution_count": 15,
     "metadata": {},
     "output_type": "execute_result"
    }
   ],
   "source": [
    "my_tuple"
   ]
  },
  {
   "cell_type": "markdown",
   "id": "3c7e3cb7",
   "metadata": {},
   "source": [
    "<h4>Create another tuple named numeric_tuple consisting of only integer values 10,20,30,40,50 \n",
    "<h4>a. Find the minimum value from the numeric_tuple. \n",
    "<h4>b. Concatenate my_tuple with numeric_tuple and store the result in r1. \n",
    "<h4>c. Duplicate the tuple named my_tuple 2 times and store that in ‘newdupli’."
   ]
  },
  {
   "cell_type": "code",
   "execution_count": 16,
   "id": "a388b794",
   "metadata": {},
   "outputs": [],
   "source": [
    "numeric_tuple = (10,20,30,40,50)"
   ]
  },
  {
   "cell_type": "code",
   "execution_count": 17,
   "id": "d6bcc371",
   "metadata": {},
   "outputs": [
    {
     "data": {
      "text/plain": [
       "10"
      ]
     },
     "execution_count": 17,
     "metadata": {},
     "output_type": "execute_result"
    }
   ],
   "source": [
    "min(numeric_tuple)"
   ]
  },
  {
   "cell_type": "code",
   "execution_count": 18,
   "id": "d972b5db",
   "metadata": {},
   "outputs": [],
   "source": [
    "r1 = my_tuple + numeric_tuple"
   ]
  },
  {
   "cell_type": "code",
   "execution_count": 19,
   "id": "a74cda76",
   "metadata": {},
   "outputs": [
    {
     "data": {
      "text/plain": [
       "(1, 2, 3, 'apple', 'mango', 10, 20, 30, 40, 50)"
      ]
     },
     "execution_count": 19,
     "metadata": {},
     "output_type": "execute_result"
    }
   ],
   "source": [
    "r1"
   ]
  },
  {
   "cell_type": "code",
   "execution_count": 20,
   "id": "d8ae5e81",
   "metadata": {},
   "outputs": [],
   "source": [
    "newdupli = my_tuple * 2"
   ]
  },
  {
   "cell_type": "code",
   "execution_count": 21,
   "id": "5b726a3b",
   "metadata": {},
   "outputs": [
    {
     "data": {
      "text/plain": [
       "(1, 2, 3, 'apple', 'mango', 1, 2, 3, 'apple', 'mango')"
      ]
     },
     "execution_count": 21,
     "metadata": {},
     "output_type": "execute_result"
    }
   ],
   "source": [
    "newdupli"
   ]
  },
  {
   "cell_type": "markdown",
   "id": "5469028c",
   "metadata": {},
   "source": [
    "<h4>Create 2 sets with name set1 and set2, where set1 contains{1,2,3,4,5} and set2 to \n",
    "<h4>contains{2,3,7,6,1} \n",
    "<h4>a. Perform the below operation: \n",
    "<h4>a. set1 union set2 \n",
    "<h4>b. set1 intersection set2   \n",
    "<h4>c. set1 difference set2 "
   ]
  },
  {
   "cell_type": "code",
   "execution_count": 22,
   "id": "5be8a8b8",
   "metadata": {},
   "outputs": [],
   "source": [
    "set1 = {1,2,3,4,5}\n",
    "set2 = {2,3,7,6,1}"
   ]
  },
  {
   "cell_type": "code",
   "execution_count": 23,
   "id": "0d3116bf",
   "metadata": {},
   "outputs": [
    {
     "data": {
      "text/plain": [
       "{1, 2, 3, 4, 5, 6, 7}"
      ]
     },
     "execution_count": 23,
     "metadata": {},
     "output_type": "execute_result"
    }
   ],
   "source": [
    "set1.union(set2)"
   ]
  },
  {
   "cell_type": "code",
   "execution_count": 24,
   "id": "69ea3c61",
   "metadata": {},
   "outputs": [
    {
     "data": {
      "text/plain": [
       "{1, 2, 3}"
      ]
     },
     "execution_count": 24,
     "metadata": {},
     "output_type": "execute_result"
    }
   ],
   "source": [
    "set1.intersection(set2)"
   ]
  },
  {
   "cell_type": "code",
   "execution_count": 25,
   "id": "803e0d85",
   "metadata": {},
   "outputs": [
    {
     "data": {
      "text/plain": [
       "{4, 5}"
      ]
     },
     "execution_count": 25,
     "metadata": {},
     "output_type": "execute_result"
    }
   ],
   "source": [
    "set1.difference(set2)"
   ]
  },
  {
   "cell_type": "markdown",
   "id": "e8bc1239",
   "metadata": {},
   "source": [
    "<h2>Module 4: Numpy Assignment "
   ]
  },
  {
   "cell_type": "code",
   "execution_count": 26,
   "id": "50595bf6",
   "metadata": {},
   "outputs": [],
   "source": [
    "import numpy as np"
   ]
  },
  {
   "cell_type": "markdown",
   "id": "2ffb74b2",
   "metadata": {},
   "source": [
    "<h4>Create a 3x3 matrix array with values ranging from 2 to 10."
   ]
  },
  {
   "cell_type": "code",
   "execution_count": 27,
   "id": "fbba5cc6",
   "metadata": {},
   "outputs": [],
   "source": [
    "arr = np.random.randint(2, 10, (3,3))"
   ]
  },
  {
   "cell_type": "code",
   "execution_count": 28,
   "id": "5fe80c11",
   "metadata": {},
   "outputs": [
    {
     "data": {
      "text/plain": [
       "array([[6, 6, 6],\n",
       "       [2, 3, 6],\n",
       "       [7, 4, 7]])"
      ]
     },
     "execution_count": 28,
     "metadata": {},
     "output_type": "execute_result"
    }
   ],
   "source": [
    "arr"
   ]
  },
  {
   "cell_type": "markdown",
   "id": "a34fd471",
   "metadata": {},
   "source": [
    "or"
   ]
  },
  {
   "cell_type": "code",
   "execution_count": 29,
   "id": "d770284f",
   "metadata": {},
   "outputs": [],
   "source": [
    "arr = np.arange(2,11).reshape(3,3)"
   ]
  },
  {
   "cell_type": "code",
   "execution_count": 30,
   "id": "cbde71de",
   "metadata": {},
   "outputs": [
    {
     "data": {
      "text/plain": [
       "array([[ 2,  3,  4],\n",
       "       [ 5,  6,  7],\n",
       "       [ 8,  9, 10]])"
      ]
     },
     "execution_count": 30,
     "metadata": {},
     "output_type": "execute_result"
    }
   ],
   "source": [
    "arr"
   ]
  },
  {
   "cell_type": "markdown",
   "id": "63ebb7be",
   "metadata": {},
   "source": [
    "<h4>Create a numpy array having user input values and convert the integer type to the float type of the elements of the  array. For instance: \n",
    "<h4>Original array \n",
    "<h4>[1, 2, 3, 4] \n",
    "<h4>Array converted to a float type: \n",
    "<h4>[ 1. 2. 3. 4.] \n"
   ]
  },
  {
   "cell_type": "code",
   "execution_count": 31,
   "id": "34ba284d",
   "metadata": {},
   "outputs": [
    {
     "name": "stdout",
     "output_type": "stream",
     "text": [
      "Enter the array values. Press q to end\n",
      "45\n",
      "56\n",
      "88\n",
      "41\n",
      "56\n",
      "q\n"
     ]
    },
    {
     "data": {
      "text/plain": [
       "array([45, 56, 88, 41, 56])"
      ]
     },
     "execution_count": 31,
     "metadata": {},
     "output_type": "execute_result"
    }
   ],
   "source": [
    "print(\"Enter the array values. Press q to end\")\n",
    "arr = []\n",
    "while(True):\n",
    "    num = input()\n",
    "    if(num == 'q'):\n",
    "        break\n",
    "    arr.append(int(num))\n",
    "\n",
    "arr = np.array(arr)\n",
    "arr"
   ]
  },
  {
   "cell_type": "code",
   "execution_count": 32,
   "id": "646a9476",
   "metadata": {},
   "outputs": [
    {
     "data": {
      "text/plain": [
       "array([45., 56., 88., 41., 56.])"
      ]
     },
     "execution_count": 32,
     "metadata": {},
     "output_type": "execute_result"
    }
   ],
   "source": [
    "arr.astype(float)"
   ]
  },
  {
   "cell_type": "markdown",
   "id": "55682ec0",
   "metadata": {},
   "source": [
    "<h4>Write a Numpy program to append values to the end of an array. For instance: \n",
    "<h4>Original array: \n",
    "<h4>[10, 20, 30] \n",
    "<h4>After append values to the end of the array: \n",
    "<h4>[10 20 30 40 50 60 70 80 90] "
   ]
  },
  {
   "cell_type": "code",
   "execution_count": 33,
   "id": "af904d57",
   "metadata": {},
   "outputs": [
    {
     "name": "stdout",
     "output_type": "stream",
     "text": [
      "Enter the array1 values. Press q to end\n",
      "56\n",
      "96\n",
      "85\n",
      "74\n",
      "12\n",
      "q\n",
      "Enter the array2 values. Press q to end\n",
      "45\n",
      "63\n",
      "89\n",
      "78\n",
      "32\n",
      "q\n"
     ]
    }
   ],
   "source": [
    "print(\"Enter the array1 values. Press q to end\")\n",
    "arr1 = []\n",
    "while(True):\n",
    "    num = input()\n",
    "    if(num == 'q'):\n",
    "        break\n",
    "    arr1.append(int(num))\n",
    "\n",
    "arr1 = np.array(arr1)\n",
    "\n",
    "print(\"Enter the array2 values. Press q to end\")\n",
    "arr2 = []\n",
    "while(True):\n",
    "    num = input()\n",
    "    if(num == 'q'):\n",
    "        break\n",
    "    arr2.append(int(num))\n",
    "\n",
    "arr2 = np.array(arr2)"
   ]
  },
  {
   "cell_type": "code",
   "execution_count": 34,
   "id": "f366aaff",
   "metadata": {},
   "outputs": [],
   "source": [
    "arr1 = np.append(arr1,arr2)"
   ]
  },
  {
   "cell_type": "code",
   "execution_count": 35,
   "id": "f4f38524",
   "metadata": {},
   "outputs": [
    {
     "data": {
      "text/plain": [
       "array([56, 96, 85, 74, 12, 45, 63, 89, 78, 32])"
      ]
     },
     "execution_count": 35,
     "metadata": {},
     "output_type": "execute_result"
    }
   ],
   "source": [
    "arr1"
   ]
  },
  {
   "cell_type": "markdown",
   "id": "3a341dd8",
   "metadata": {},
   "source": [
    "<h4>Create two numpy arrays and add the elements of both the arrays and store the result in sumArray."
   ]
  },
  {
   "cell_type": "code",
   "execution_count": 36,
   "id": "b4194609",
   "metadata": {},
   "outputs": [],
   "source": [
    "arr1 = np.array([1,2,3,4,5])\n",
    "arr2 = np.array([6,7,8,9,10])"
   ]
  },
  {
   "cell_type": "code",
   "execution_count": 37,
   "id": "969c707e",
   "metadata": {},
   "outputs": [
    {
     "data": {
      "text/plain": [
       "array([ 7,  9, 11, 13, 15])"
      ]
     },
     "execution_count": 37,
     "metadata": {},
     "output_type": "execute_result"
    }
   ],
   "source": [
    "sumArray = np.array([])\n",
    "if(arr1.shape == arr2.shape):\n",
    "    sumArray = arr1 + arr2\n",
    "\n",
    "sumArray"
   ]
  },
  {
   "cell_type": "markdown",
   "id": "f852b952",
   "metadata": {},
   "source": [
    "<h4>Create a 3*3 array having values from 10-90(interval of 10) and store that in array1. Perform the following tasks: \n",
    "<h4>a. Extract the 1st row from the array. \n",
    "<h4>b. Extract the last element from the array. "
   ]
  },
  {
   "cell_type": "code",
   "execution_count": 38,
   "id": "72424cba",
   "metadata": {},
   "outputs": [],
   "source": [
    "array1 = np.linspace(10,90,9).reshape(3,3).astype(int)"
   ]
  },
  {
   "cell_type": "code",
   "execution_count": 39,
   "id": "b3810987",
   "metadata": {},
   "outputs": [
    {
     "data": {
      "text/plain": [
       "array([[10, 20, 30],\n",
       "       [40, 50, 60],\n",
       "       [70, 80, 90]])"
      ]
     },
     "execution_count": 39,
     "metadata": {},
     "output_type": "execute_result"
    }
   ],
   "source": [
    "array1"
   ]
  },
  {
   "cell_type": "code",
   "execution_count": 40,
   "id": "e68b977a",
   "metadata": {},
   "outputs": [
    {
     "data": {
      "text/plain": [
       "array([10, 20, 30])"
      ]
     },
     "execution_count": 40,
     "metadata": {},
     "output_type": "execute_result"
    }
   ],
   "source": [
    "array1[0]"
   ]
  },
  {
   "cell_type": "code",
   "execution_count": 41,
   "id": "00432c5c",
   "metadata": {},
   "outputs": [
    {
     "data": {
      "text/plain": [
       "90"
      ]
     },
     "execution_count": 41,
     "metadata": {},
     "output_type": "execute_result"
    }
   ],
   "source": [
    "array1[2][2]"
   ]
  },
  {
   "cell_type": "code",
   "execution_count": null,
   "id": "267490af",
   "metadata": {},
   "outputs": [],
   "source": []
  }
 ],
 "metadata": {
  "kernelspec": {
   "display_name": "Python 3",
   "language": "python",
   "name": "python3"
  },
  "language_info": {
   "codemirror_mode": {
    "name": "ipython",
    "version": 3
   },
   "file_extension": ".py",
   "mimetype": "text/x-python",
   "name": "python",
   "nbconvert_exporter": "python",
   "pygments_lexer": "ipython3",
   "version": "3.8.8"
  }
 },
 "nbformat": 4,
 "nbformat_minor": 5
}
